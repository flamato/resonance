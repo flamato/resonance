{
 "cells": [
  {
   "cell_type": "markdown",
   "metadata": {},
   "source": [
    "# 9 Modeling a Washing Machine Vibration"
   ]
  },
  {
   "cell_type": "markdown",
   "metadata": {},
   "source": [
    "As an example we will study a model of washing machine vibrating. A washing machine typically has a structure that sits on the ground, usually on padded feet that provide some damping and then there is a drum that spins relative to the machine's main housing structure. Inside the drum, clothes can end up clumped in ways that cause the mass center of the contents of the drum to lie somewhere other than the spin axis. See this video for an example of what can happen:"
   ]
  },
  {
   "cell_type": "code",
   "execution_count": null,
   "metadata": {},
   "outputs": [],
   "source": [
    "from IPython.display import YouTubeVideo\n",
    "YouTubeVideo('JqdAKPzdHDo')"
   ]
  },
  {
   "cell_type": "markdown",
   "metadata": {},
   "source": [
    "## Process for using Lagrange's method for forming equations of planar\n",
    "\n",
    "1. Decide on assumptions and simplifications that you should make about the real system. It's generally best to start with the simplest model possible and increase complexity if needed.\n",
    "2. Draw a free body diagram to help visualize the system and all forces acting on it.\n",
    "3. Pick generalized coordinates. These should be a minimal description to fully describe the configuration. (i.e. for a simple pendulum use the angle as the coordinate instead of the x and y position of the mass)\n",
    "4. Write out the expressions for kinetic energy, potential energy, and dissipative energy.\n",
    "5. Form the magnitudes of the velocities for each particle, magnitudes of velocities of each rigid body mass center, and the magnitude of the angular velocities of the rigid bodies.\n",
    "6. Form the Lagrangian.\n",
    "7. Form Lagrange's equation of the second kind.\n",
    "\n",
    "For nonlinear analysis:\n",
    "\n",
    "1. Introduce variables for generalized speeds and put nonlinear equations in first order form.\n",
    "\n",
    "For linear analysis:\n",
    "\n",
    "1. Determine the equilibrium point (set velocities and accelerations to zero and solve for generalized coordinates).\n",
    "2. Linearize the nonlinear equations about the equilibrium point by either assuming small angles or calculating the first two terms of a Taylor series expansion.\n",
    "3. Extract the mass, damping, and stiffness coefficients and the forcing vector.\n",
    "\n",
    "## Lagrange's Equation of the Second Kind\n",
    "\n",
    "$$\\frac{d}{dt}\\left(\\frac{\\partial L}{\\partial \\dot{q}_i}\\right) - \\frac{\\partial L}{\\partial q_i} = Q_i \\quad \\textrm{ for } i = 1, \\ldots, n$$\n",
    "\n",
    "- $n$: number of generalized coordinates\n",
    "- $q_i$: ith generalized coordinate\n",
    "- $\\dot{q}_i$: time derivative of the ith generalized coordinate\n",
    "- $L$: Lagrangian, $L = T - U$\n",
    "- $T$: Kinetic energy of the system (sum of the translational energies of each particle and translational/rotational energies of each rigid body)\n",
    "- $U$: Potential energy of the system (sum of potentials due to gravity, springs, etc)\n",
    "- $Q$: Non-conservative generalized forces\n",
    "    - For viscous damping elements in a system $Q_i = -\\frac{\\partial R}{\\partial \\dot{q}_i}$, where $R = \\frac{1}{2}\\sum_{j=1}^n c_j v_j^2$\n",
    "    \n",
    "## Extra resources\n",
    "\n",
    "- Free book chapters on modeling mechanical systems and Lagrange's equations: http://moodle.autolab.uni-pannon.hu/Mecha_tananyag/mechatronikai_modellezes_angol/ch11.html\n",
    "- Wikipedia article on Lagrangian mechanics: https://en.wikipedia.org/wiki/Lagrangian_mechanics\n",
    "- MIT Opencourseware lecture notes on Lagrangian mechanics: https://ocw.mit.edu/courses/aeronautics-and-astronautics/16-07-dynamics-fall-2009/lecture-notes/MIT16_07F09_Lec20.pdf"
   ]
  },
  {
   "cell_type": "markdown",
   "metadata": {},
   "source": [
    "# Imports and code setup"
   ]
  },
  {
   "cell_type": "code",
   "execution_count": null,
   "metadata": {},
   "outputs": [],
   "source": [
    "import sympy as sm"
   ]
  },
  {
   "cell_type": "markdown",
   "metadata": {},
   "source": [
    "Here is a hack that will let $\\frac{d y}{dt}$ appear as $\\dot{y}$."
   ]
  },
  {
   "cell_type": "code",
   "execution_count": null,
   "metadata": {},
   "outputs": [],
   "source": [
    "from sympy.printing.latex import LatexPrinter\n",
    "\n",
    "class TimeDerivativePrinter(LatexPrinter):\n",
    "    def _print_Derivative(self, expr):\n",
    "        dim = len(expr.variables)\n",
    "        t = sm.Symbol('t')\n",
    "        if dim == 1 and expr.variables == (t,):\n",
    "            return r\"\\dot{{{}}}\".format(self._print(expr.args[0]))\n",
    "        elif dim == 2 and expr.variables == (t, t): \n",
    "            return r\"\\ddot{{{}}}\".format(self._print(expr.args[0]))\n",
    "        else:\n",
    "            return self._print(expr)\n",
    "        \n",
    "def latex(expr, **settings):\n",
    "    return TimeDerivativePrinter(settings).doprint(expr)"
   ]
  },
  {
   "cell_type": "code",
   "execution_count": null,
   "metadata": {},
   "outputs": [],
   "source": [
    "sm.init_printing(latex_printer=latex)"
   ]
  },
  {
   "cell_type": "markdown",
   "metadata": {},
   "source": [
    "# Modeling\n",
    "\n",
    "I want to make the model (at least the first one) to be as simple as I can such that we can try to show the vibrations. Here are some assumptions:\n",
    "\n",
    "- The washing can only move up and down relative to the ground.\n",
    "- The \"connection\" of the washing machine to the ground may behave like a linear spring and damper.\n",
    "- The washing machine can't leave the floor.\n",
    "- The clothes can be represented by a point mass for now, just to cause the drum to be off balanced.\n",
    "\n",
    "With those in mind, here is a basic free body diagram of the system:\n",
    "\n",
    "![](washing-machine-01.png)"
   ]
  },
  {
   "cell_type": "markdown",
   "metadata": {},
   "source": [
    "# Define the constants"
   ]
  },
  {
   "cell_type": "code",
   "execution_count": null,
   "metadata": {},
   "outputs": [],
   "source": [
    "mw, mc, md, Icd, k, c, e, w, g, y0 = sm.symbols('m_w, m_c, m_d, I_cd, k, c, e, omega, g, y_0')"
   ]
  },
  {
   "cell_type": "markdown",
   "metadata": {},
   "source": [
    "# Define the generalized coordinates\n",
    "\n",
    "All generalized coordinates should be functions of time."
   ]
  },
  {
   "cell_type": "code",
   "execution_count": null,
   "metadata": {},
   "outputs": [],
   "source": [
    "t = sm.symbols('t')"
   ]
  },
  {
   "cell_type": "code",
   "execution_count": null,
   "metadata": {},
   "outputs": [],
   "source": [
    "y = sm.Function('y')(t)"
   ]
  },
  {
   "cell_type": "code",
   "execution_count": null,
   "metadata": {},
   "outputs": [],
   "source": [
    "y"
   ]
  },
  {
   "cell_type": "code",
   "execution_count": null,
   "metadata": {},
   "outputs": [],
   "source": [
    "y.diff(t)"
   ]
  },
  {
   "cell_type": "code",
   "execution_count": null,
   "metadata": {},
   "outputs": [],
   "source": [
    "y.diff(t, 2)"
   ]
  },
  {
   "cell_type": "markdown",
   "metadata": {},
   "source": [
    "# Form the total kinetic energy of the system"
   ]
  },
  {
   "cell_type": "code",
   "execution_count": null,
   "metadata": {},
   "outputs": [],
   "source": [
    "T = (mw * y.diff()**2 / 2 +  # vertical motion of washing machine\n",
    "     md * y.diff()**2 / 2 +  # vertical motion of the drum\n",
    "     Icd * w**2 / 2 +  # rotation of the drum\n",
    "     mc * ((y.diff() + w * e * sm.cos(w * t))**2 + (w * e * sm.sin(w * t))**2) / 2)  # motion of the clothes mass center\n",
    "T"
   ]
  },
  {
   "cell_type": "markdown",
   "metadata": {},
   "source": [
    "# Form the total potential energy of the system"
   ]
  },
  {
   "cell_type": "code",
   "execution_count": null,
   "metadata": {},
   "outputs": [],
   "source": [
    "U = (mw * g * y +  # due to raising height of washing machine\n",
    "     md * g * y +  # due to raising height of drum\n",
    "     mc * g * (y + e * sm.sin(w * t)) +   # due to raising height of clothes\n",
    "     k * (y - y0)**2 / 2)  # due to stretch away from free length of spring\n",
    "U"
   ]
  },
  {
   "cell_type": "markdown",
   "metadata": {},
   "source": [
    "# Form the total dissipative energy of the system"
   ]
  },
  {
   "cell_type": "code",
   "execution_count": null,
   "metadata": {},
   "outputs": [],
   "source": [
    "R = c * y.diff()**2 / 2  # due to dashpot\n",
    "R"
   ]
  },
  {
   "cell_type": "markdown",
   "metadata": {},
   "source": [
    "# Form the Lagrangian"
   ]
  },
  {
   "cell_type": "code",
   "execution_count": null,
   "metadata": {},
   "outputs": [],
   "source": [
    "L = T - U\n",
    "L"
   ]
  },
  {
   "cell_type": "markdown",
   "metadata": {},
   "source": [
    "## Form Lagrange's Equation of the Second Kind\n",
    "\n",
    "There is only one generalized coordinate, $y$, so there will be one equation of motion for this single degree of freedom system.\n",
    "\n",
    "\n",
    "$$f(y, \\dot{y}, \\ddot{y}) = \\frac{d}{dt}\\left(\\frac{\\partial L}{\\partial \\dot{y}}\\right) - \\frac{\\partial L}{\\partial y} + \\frac{\\partial R}{\\partial\\dot{y}} = 0$$"
   ]
  },
  {
   "cell_type": "code",
   "execution_count": null,
   "metadata": {},
   "outputs": [],
   "source": [
    "f = L.diff(y.diff()).diff(t) - L.diff(y) + R.diff(y.diff())\n",
    "f"
   ]
  },
  {
   "cell_type": "markdown",
   "metadata": {},
   "source": [
    "`.expand()` and `.collect()` can be used to show the equation in terms of each $y$ term."
   ]
  },
  {
   "cell_type": "code",
   "execution_count": null,
   "metadata": {},
   "outputs": [],
   "source": [
    "f = f.expand().collect((y, y.diff(), y.diff(t, 2)))\n",
    "f"
   ]
  },
  {
   "cell_type": "markdown",
   "metadata": {},
   "source": [
    "Notice that the rotational centroidal inertia of the drum plays no role in the dynamics because it can't affect the vertical motion of the machine. We could have ignored that from the beginning if we made that realization and further simplified the model description. Note also that the left hand side of this equation is linear in $y,\\dot{y},\\ddot{y}$. Lastly, note the constant term $$-m_T g + k y_0$$. This term has to do with the free length and the total weight.\n",
    "\n",
    "$$m_T \\ddot{y} + c \\dot{y} + k y = em_c\\omega^2\\sin(\\omega t) - m_T g + k y_0$$\n",
    "\n",
    "where\n",
    "\n",
    "$$m_T = m_c + m_d + m_w$$"
   ]
  },
  {
   "cell_type": "markdown",
   "metadata": {},
   "source": [
    "# Equilibrium\n",
    "\n",
    "The above equations are valid, but with linear systems, we are typically interested in vibration about the equilibrium. The value of $y$ for equilibrium should be the value of the free length of the spring minus the distance compressed under the static load of the machine, i.e.:\n",
    "\n",
    "$$y_{eq} = y_0 - \\frac{m_T g}{k}$$\n",
    "\n",
    "If you set the velocities and accelerations to zero in the equation of motion, this leaves the static force balance and solve it for the generalized coordinate will give the equilibrium value."
   ]
  },
  {
   "cell_type": "code",
   "execution_count": null,
   "metadata": {},
   "outputs": [],
   "source": [
    "yeq = sm.solve(f.subs({y.diff(t, 2): 0, y.diff(t): 0, w: 0}), y)[0]  # note that solve returns a list, so [0] is needed\n",
    "yeq"
   ]
  },
  {
   "cell_type": "markdown",
   "metadata": {},
   "source": [
    "Now that we know the value of $y$ the system is at a equilibrium, we can write the equation of motion in terms it's motion with respect to the motion $\\Delta y$ about the equilibrium, i.e. $y = y_{eq} + \\Delta y$."
   ]
  },
  {
   "cell_type": "code",
   "execution_count": null,
   "metadata": {},
   "outputs": [],
   "source": [
    "dely = sm.Function('\\Delta y')(t)\n",
    "dely"
   ]
  },
  {
   "cell_type": "code",
   "execution_count": null,
   "metadata": {},
   "outputs": [],
   "source": [
    "f_eq = f.subs({y.diff(t, 2): dely.diff(t, 2)}).subs({y.diff(t): dely.diff(t)}).subs({y: yeq + dely}).simplify()\n",
    "f_eq"
   ]
  },
  {
   "cell_type": "markdown",
   "metadata": {},
   "source": [
    "# Linear equations in canonical form\n",
    "\n",
    "Notice how the gravity related force terms and the need for the spring's free length were eliminated.\n",
    "\n",
    "The equation above also is linear wrt $\\Delta y$, $\\Delta\\dot{y}$, and $\\Delta\\ddot{y}$. The $m$, $c$, and $k$ coefficients can be extracted:"
   ]
  },
  {
   "cell_type": "code",
   "execution_count": null,
   "metadata": {},
   "outputs": [],
   "source": [
    "m_coeff = f_eq.coeff(dely.diff(t, 2))\n",
    "m_coeff"
   ]
  },
  {
   "cell_type": "code",
   "execution_count": null,
   "metadata": {},
   "outputs": [],
   "source": [
    "c_coeff = f_eq.coeff(dely.diff(t))\n",
    "c_coeff"
   ]
  },
  {
   "cell_type": "code",
   "execution_count": null,
   "metadata": {},
   "outputs": [],
   "source": [
    "k_coeff = f_eq.coeff(dely)\n",
    "k_coeff"
   ]
  },
  {
   "cell_type": "markdown",
   "metadata": {},
   "source": [
    "The remaining term is the right hand side forcing term:"
   ]
  },
  {
   "cell_type": "code",
   "execution_count": null,
   "metadata": {},
   "outputs": [],
   "source": [
    "forcing = -(f_eq - m_coeff * dely.diff(t, 2) - c_coeff * dely.diff(t) - k_coeff * dely)\n",
    "forcing"
   ]
  },
  {
   "cell_type": "markdown",
   "metadata": {},
   "source": [
    "Now we have a linear single degree of freedom system with a sinusoidal forcing term that takes this form:\n",
    "\n",
    "$$ m \\Delta\\ddot{y}(t) + c \\Delta\\dot{y}(t) + k \\Delta y(t) = f_0 \\sin(\\omega t) $$"
   ]
  },
  {
   "cell_type": "code",
   "execution_count": null,
   "metadata": {},
   "outputs": [],
   "source": [
    "sm.Eq(m_coeff * dely.diff(t, 2) + c_coeff * dely.diff(t) + k_coeff * dely, forcing)"
   ]
  },
  {
   "cell_type": "markdown",
   "metadata": {},
   "source": [
    "# The free length and equlibrium\n",
    "\n",
    "Notice that the equation of motion of vibration about the equilibrium does not involve the free length or the weight of the machine. If you originally define your origin with respect to the static equilibrium you can write $U$ without the gravity potential energy terms related to the total weight because the energy stored in the compressed spring always equates to the energy gained from raising or lowering the mass. The free body diagram would look more like:\n",
    "\n",
    "![](washing-machine-02.png)\n",
    "\n",
    "So the equation of motion can be formed more easily like:"
   ]
  },
  {
   "cell_type": "code",
   "execution_count": null,
   "metadata": {},
   "outputs": [],
   "source": [
    "U = (mc * g * e * sm.sin(w * t) +  # potential from height raise of mass of the clothes only\n",
    "     k * y**2 / 2)  # potential due to stretch of spring away from equilibrium\n",
    "U"
   ]
  },
  {
   "cell_type": "code",
   "execution_count": null,
   "metadata": {},
   "outputs": [],
   "source": [
    "L = T - U\n",
    "f = L.diff(y.diff()).diff(t) - L.diff(y) + R.diff(y.diff())\n",
    "sm.Eq(f.expand().collect(y.diff(t, 2)), 0)"
   ]
  },
  {
   "cell_type": "markdown",
   "metadata": {},
   "source": [
    "Same equation of motion as above, but with fewer steps!"
   ]
  }
 ],
 "metadata": {
  "anaconda-cloud": {},
  "kernelspec": {
   "display_name": "Python 3",
   "language": "python",
   "name": "python3"
  },
  "language_info": {
   "codemirror_mode": {
    "name": "ipython",
    "version": 3
   },
   "file_extension": ".py",
   "mimetype": "text/x-python",
   "name": "python",
   "nbconvert_exporter": "python",
   "pygments_lexer": "ipython3",
   "version": "3.6.3"
  }
 },
 "nbformat": 4,
 "nbformat_minor": 2
}
