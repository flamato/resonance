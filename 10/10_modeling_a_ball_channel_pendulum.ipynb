{
 "cells": [
  {
   "cell_type": "markdown",
   "metadata": {},
   "source": [
    "# 10 Modeling a Ball Channel Pendulum\n",
    "\n",
    "Below is a video of a simple cardboard pendulum that has a metal ball in a semi-circular channel mounted above the pendulum's rotational joint. It is an interesting dynamic system that can be constructed and experimented with. This system seems to behave like a single degree of freedom system, i.e. that the ball's location is a kinematic function of the pendulum's angle. But this may not actually be the case. It depends on the nature of the motion of the ball with respect to the channel. If the ball rolls without slipping in the channel it is a single degree of freedom system. If the ball can slip and roll it is at a minimum a two degree of freedom system. In this notebook we will derive the equations of motion of the system considering the ball slips and doesn't roll in the channel."
   ]
  },
  {
   "cell_type": "code",
   "execution_count": null,
   "metadata": {},
   "outputs": [],
   "source": [
    "from IPython.display import YouTubeVideo\n",
    "YouTubeVideo('3pJdkssUdfU', width=600, height=480)"
   ]
  },
  {
   "cell_type": "markdown",
   "metadata": {},
   "source": [
    "# Imports and setup"
   ]
  },
  {
   "cell_type": "code",
   "execution_count": null,
   "metadata": {},
   "outputs": [],
   "source": [
    "import sympy as sm\n",
    "import numpy as np"
   ]
  },
  {
   "cell_type": "code",
   "execution_count": null,
   "metadata": {},
   "outputs": [],
   "source": [
    "sm.init_printing()"
   ]
  },
  {
   "cell_type": "code",
   "execution_count": null,
   "metadata": {},
   "outputs": [],
   "source": [
    "%matplotlib inline"
   ]
  },
  {
   "cell_type": "markdown",
   "metadata": {},
   "source": [
    "# Free Body Diagram\n",
    "\n",
    "TODO : Add the free body diagram we drew in class."
   ]
  },
  {
   "cell_type": "markdown",
   "metadata": {},
   "source": [
    "# Constants\n",
    "\n",
    "Create a symbol for each of the system's contant parameters.\n",
    "\n",
    "- $m_p$: mass of the pendulum\n",
    "- $m_b$: mass of the ball\n",
    "- $l$: length of the pendulum\n",
    "- $r$: radius of the channel\n",
    "- $g$: acceleration due to gravity"
   ]
  },
  {
   "cell_type": "code",
   "execution_count": null,
   "metadata": {},
   "outputs": [],
   "source": [
    "mp, mb, r, l, g = sm.symbols('m_p, m_b, r, l, g')"
   ]
  },
  {
   "cell_type": "markdown",
   "metadata": {},
   "source": [
    "# Generalized Coordinates\n",
    "\n",
    "Create functions of time for each generalized coordinate.\n",
    "\n",
    "- $\\theta(t)$: angle of the pendulum\n",
    "- $\\phi(t)$: angle of the line from the center of the channel to the ball"
   ]
  },
  {
   "cell_type": "code",
   "execution_count": null,
   "metadata": {},
   "outputs": [],
   "source": [
    "t = sm.symbols('t')"
   ]
  },
  {
   "cell_type": "code",
   "execution_count": null,
   "metadata": {},
   "outputs": [],
   "source": [
    "theta = sm.Function('theta')(t)\n",
    "phi = sm.Function('phi')(t)"
   ]
  },
  {
   "cell_type": "code",
   "execution_count": null,
   "metadata": {},
   "outputs": [],
   "source": [
    "theta.diff()"
   ]
  },
  {
   "cell_type": "code",
   "execution_count": null,
   "metadata": {},
   "outputs": [],
   "source": [
    "theta.diff(t)"
   ]
  },
  {
   "cell_type": "markdown",
   "metadata": {},
   "source": [
    "# Kinetic Energy\n",
    "\n",
    "Write the kinetic energy in terms of the generalized coordinates."
   ]
  },
  {
   "cell_type": "code",
   "execution_count": null,
   "metadata": {},
   "outputs": [],
   "source": [
    "Tp = mp * (l * theta.diff())**2 / 2\n",
    "Tp"
   ]
  },
  {
   "cell_type": "code",
   "execution_count": null,
   "metadata": {},
   "outputs": [],
   "source": [
    "Tb = mb / 2 * ((-r * theta.diff() * sm.cos(theta) + phi.diff() * r * sm.cos(theta + phi))**2 +\n",
    "               (-r * theta.diff() * sm.sin(theta) + phi.diff() * r * sm.sin(theta + phi))**2)\n",
    "Tb"
   ]
  },
  {
   "cell_type": "code",
   "execution_count": null,
   "metadata": {},
   "outputs": [],
   "source": [
    "T = Tp + Tb\n",
    "T"
   ]
  },
  {
   "cell_type": "markdown",
   "metadata": {},
   "source": [
    "# Potential Energy\n",
    "\n",
    "Each particle (pendulum bob and the ball) has a potential energy associated with how high the mass rises."
   ]
  },
  {
   "cell_type": "code",
   "execution_count": null,
   "metadata": {},
   "outputs": [],
   "source": [
    "U = mp * g * (l - l * sm.cos(theta)) + mb * g * (l + r * sm.cos(theta) - r * sm.cos(theta + phi))\n",
    "U"
   ]
  },
  {
   "cell_type": "markdown",
   "metadata": {},
   "source": [
    "# Lagrange's equation of the second kind\n",
    "\n",
    "There are two generalized coordinates with two degrees of freedom and thus two equations of motion.\n",
    "\n",
    "$$\n",
    "0 = f_\\theta(\\theta, \\phi, \\dot{\\theta}, \\dot{\\phi}, \\ddot{\\theta}, \\ddot{\\phi}, t) \\\\\n",
    "0 = f_\\phi(\\theta, \\phi, \\dot{\\theta}, \\dot{\\phi}, \\ddot{\\theta}, \\ddot{\\phi}, t) \\\\\n",
    "$$"
   ]
  },
  {
   "cell_type": "code",
   "execution_count": null,
   "metadata": {},
   "outputs": [],
   "source": [
    "L = T - U\n",
    "L"
   ]
  },
  {
   "cell_type": "code",
   "execution_count": null,
   "metadata": {},
   "outputs": [],
   "source": [
    "f_theta = L.diff(theta.diff()).diff(t) - L.diff(theta)\n",
    "f_theta = sm.trigsimp(f_theta)\n",
    "f_theta"
   ]
  },
  {
   "cell_type": "code",
   "execution_count": null,
   "metadata": {},
   "outputs": [],
   "source": [
    "f_phi = L.diff(phi.diff()).diff(t) - L.diff(phi)\n",
    "f_phi = sm.trigsimp(f_phi)\n",
    "f_phi"
   ]
  },
  {
   "cell_type": "markdown",
   "metadata": {},
   "source": [
    "# Explicit first order form\n",
    "\n",
    "Introduce two new variables for the generalized speeds:\n",
    "\n",
    "$$\n",
    "\\alpha = \\dot{\\theta} \\\\\n",
    "\\beta = \\dot{\\phi}\n",
    "$$"
   ]
  },
  {
   "cell_type": "code",
   "execution_count": null,
   "metadata": {},
   "outputs": [],
   "source": [
    "alpha = sm.Function('alpha')(t)\n",
    "beta = sm.Function('beta')(t)"
   ]
  },
  {
   "cell_type": "markdown",
   "metadata": {},
   "source": [
    "Substitute these into the two equations of motion:"
   ]
  },
  {
   "cell_type": "code",
   "execution_count": null,
   "metadata": {},
   "outputs": [],
   "source": [
    "f_theta = f_theta.subs({theta.diff(): alpha, phi.diff(): beta})\n",
    "f_theta"
   ]
  },
  {
   "cell_type": "code",
   "execution_count": null,
   "metadata": {},
   "outputs": [],
   "source": [
    "f_phi = f_phi.subs({theta.diff(): alpha, phi.diff(): beta})\n",
    "f_phi"
   ]
  },
  {
   "cell_type": "code",
   "execution_count": null,
   "metadata": {},
   "outputs": [],
   "source": [
    "f = sm.Matrix([f_theta, f_phi])\n",
    "f"
   ]
  },
  {
   "cell_type": "markdown",
   "metadata": {},
   "source": [
    "The equations are motion are based on Newton's second law and Euler's equations, thus it is guaranteed that terms in $\\mathbf{f}$ that include $\\dot{\\mathbf{u}}$ are linear with respect to $\\dot{\\mathbf{u}}$. So the equations of motion can be written in this matrix form:\n",
    "\n",
    "$$\n",
    "\\mathbf{f}(\\mathbf{q}, \\mathbf{u}, \\dot{\\mathbf{u}}, t) = \\mathbf{M}(\\mathbf{q}, t)\\dot{\\mathbf{u}} - \\mathbf{G}(\\mathbf{q}, \\mathbf{u}, t) = 0\n",
    "$$\n",
    "\n",
    "$\\mathbf{M}$ is called the \"mass matrix\" of the nonlinear equations. If the derivatives of $\\mathbf{f}$ with respect to $\\dot{\\mathbf{u}}$ are computed, i.e. the [Jacobian](https://en.wikipedia.org/wiki/Jacobian_matrix_and_determinant) of $\\mathbf{f}$ with respect to $\\dot{\\mathbf{u}}$, then you can obtain the mass matrix."
   ]
  },
  {
   "cell_type": "code",
   "execution_count": null,
   "metadata": {},
   "outputs": [],
   "source": [
    "u = sm.Matrix([alpha, beta])\n",
    "u"
   ]
  },
  {
   "cell_type": "code",
   "execution_count": null,
   "metadata": {},
   "outputs": [],
   "source": [
    "M = f.jacobian(u.diff())\n",
    "M"
   ]
  },
  {
   "cell_type": "markdown",
   "metadata": {},
   "source": [
    "$$\\mathbf{G} = \\mathbf{M}\\dot{\\mathbf{u}} - \\mathbf{f}$$"
   ]
  },
  {
   "cell_type": "code",
   "execution_count": null,
   "metadata": {},
   "outputs": [],
   "source": [
    "# TODO : The `sm.MutableDenseMatrix()` call is due to a regression present in SymPy 1.2 and 1.3.\n",
    "# Once that is fixed, this should not be necessary.\n",
    "G = M * sm.MutableDenseMatrix(u.diff()) - f\n",
    "G.simplify()\n",
    "G"
   ]
  },
  {
   "cell_type": "markdown",
   "metadata": {},
   "source": [
    "The first order form has all of the $\\dot{\\mathbf{u}}$ on the left hand side. This requires solving the linear system of equations:\n",
    "\n",
    "$$\\mathbf{M}\\dot{\\mathbf{u}}=\\mathbf{G}$$\n",
    "\n",
    "The mathematical solution is:\n",
    "\n",
    "$$\\dot{\\mathbf{u}}=\\mathbf{M}^{-1}\\mathbf{G}$$"
   ]
  },
  {
   "cell_type": "code",
   "execution_count": null,
   "metadata": {},
   "outputs": [],
   "source": [
    "udot = M.inv() * G\n",
    "udot.simplify()\n",
    "udot"
   ]
  },
  {
   "cell_type": "markdown",
   "metadata": {},
   "source": [
    "A better way to solve the system of linear equations is to use Guassian elmination. SymPy has a variety of methods for sovling linear systems. The LU decomposition method of Guassian elimination is a generally good choice for this and for large number of degrees of freedom this will provide reasonable computation time. For very large $n$ this should be done numerically instead of symbolically."
   ]
  },
  {
   "cell_type": "code",
   "execution_count": null,
   "metadata": {},
   "outputs": [],
   "source": [
    "udot = M.LUsolve(G)\n",
    "udot.simplify()\n",
    "udot"
   ]
  },
  {
   "cell_type": "markdown",
   "metadata": {},
   "source": [
    "Note the differences in timing below. For systems with a large number of degrees of freedom, this gap in timing will increase significantly."
   ]
  },
  {
   "cell_type": "code",
   "execution_count": null,
   "metadata": {},
   "outputs": [],
   "source": [
    "%timeit M.inv() * G"
   ]
  },
  {
   "cell_type": "code",
   "execution_count": null,
   "metadata": {},
   "outputs": [],
   "source": [
    "%timeit M.LUsolve(G)"
   ]
  },
  {
   "cell_type": "markdown",
   "metadata": {},
   "source": [
    "# Simulation of the nonlinear system\n",
    "\n",
    "Resonance has a prepared system that is only missing the equations of motion."
   ]
  },
  {
   "cell_type": "code",
   "execution_count": null,
   "metadata": {},
   "outputs": [],
   "source": [
    "from resonance.nonlinear_systems import BallChannelPendulumSystem"
   ]
  },
  {
   "cell_type": "code",
   "execution_count": null,
   "metadata": {},
   "outputs": [],
   "source": [
    "sys = BallChannelPendulumSystem()"
   ]
  },
  {
   "cell_type": "code",
   "execution_count": null,
   "metadata": {},
   "outputs": [],
   "source": [
    "sys.constants"
   ]
  },
  {
   "cell_type": "code",
   "execution_count": null,
   "metadata": {},
   "outputs": [],
   "source": [
    "sys.coordinates"
   ]
  },
  {
   "cell_type": "code",
   "execution_count": null,
   "metadata": {},
   "outputs": [],
   "source": [
    "sys.speeds"
   ]
  },
  {
   "cell_type": "markdown",
   "metadata": {},
   "source": [
    "The full first order ordinary differential equations are:\n",
    "\n",
    "$$\n",
    "\\dot{\\theta} = \\alpha \\\\\n",
    "\\dot{\\phi} = \\beta \\\\\n",
    "\\dot{\\alpha} = f_{\\alpha}(\\theta, \\phi, \\alpha, \\beta, t) \\\\\n",
    "\\dot{\\beta} = f_{\\beta}(\\theta, \\phi, \\alpha, \\beta, t)\n",
    "$$\n",
    "\n",
    "where:\n",
    "\n",
    "$$\n",
    "\\dot{\\mathbf{q}}=\\begin{bmatrix}\n",
    "\\theta \\\\\n",
    "\\phi\n",
    "\\end{bmatrix} \\\\\n",
    "\\dot{\\mathbf{u}}=\\mathbf{M}^{-1}\\mathbf{G} =\n",
    "\\begin{bmatrix}\n",
    "f_{\\alpha}(\\theta, \\phi, \\alpha, \\beta, t) \\\\\n",
    "f_{\\beta}(\\theta, \\phi, \\alpha, \\beta, t)\n",
    "\\end{bmatrix}\n",
    "$$\n",
    "\n",
    "Introducing:\n",
    "\n",
    "$$\\mathbf{x} = \n",
    "\\begin{bmatrix}\n",
    "\\mathbf{q} \\\\\n",
    "\\mathbf{u}\n",
    "\\end{bmatrix}=\n",
    "\\begin{bmatrix}\n",
    "\\theta \\\\\n",
    "\\phi \\\\\n",
    "\\alpha \\\\\n",
    "\\beta\n",
    "\\end{bmatrix}\n",
    "$$\n",
    "\n",
    "we have equations for:\n",
    "\n",
    "$$\\dot{\\mathbf{x}} = \\begin{bmatrix}\n",
    "\\dot{\\theta} \\\\\n",
    "\\dot{\\phi} \\\\\n",
    "\\dot{\\alpha} \\\\\n",
    "\\dot{\\beta}\n",
    "\\end{bmatrix}\n",
    "=\n",
    "\\begin{bmatrix}\n",
    "\\alpha \\\\\n",
    "\\beta \\\\\n",
    "f_{\\alpha}(\\theta, \\phi, \\alpha, \\beta, t) \\\\\n",
    "f_{\\beta}(\\theta, \\phi, \\alpha, \\beta, t)\n",
    "\\end{bmatrix}\n",
    "$$\n",
    "\n",
    "To find $\\mathbf{x}$ we must integrate $\\dot{\\mathbf{x}}$ with respect to time:\n",
    "\n",
    "$$\n",
    "\\mathbf{x} = \\int_{t_0}^{t_f} \\dot{\\mathbf{x}} dt\n",
    "$$\n",
    "\n",
    "Resonance uses numerical integration behind the scenes to compute this integral. Numerical integration routines typicall require that you write a function that computes the right hand side of the first order form of the differential equations. This function takes the current state and time and computes the derivative of the states."
   ]
  },
  {
   "cell_type": "markdown",
   "metadata": {},
   "source": [
    "SymPy's `lambdify` function can convert symbolic expression into NumPy aware functions, i.e. Python functions that can accept NumPy arrays."
   ]
  },
  {
   "cell_type": "code",
   "execution_count": null,
   "metadata": {},
   "outputs": [],
   "source": [
    "eval_alphadot = sm.lambdify((phi, theta, alpha, beta, mp, mb, l, r, g), udot[0])"
   ]
  },
  {
   "cell_type": "code",
   "execution_count": null,
   "metadata": {},
   "outputs": [],
   "source": [
    "eval_alphadot(1, 2, 3, 4, 5, 6, 7, 8, 9)"
   ]
  },
  {
   "cell_type": "code",
   "execution_count": null,
   "metadata": {},
   "outputs": [],
   "source": [
    "eval_betadot = sm.lambdify((phi, theta, alpha, beta, mp, mb, l, r, g), udot[1])"
   ]
  },
  {
   "cell_type": "code",
   "execution_count": null,
   "metadata": {},
   "outputs": [],
   "source": [
    "eval_betadot(1, 2, 3, 4, 5, 6, 7, 8, 9)"
   ]
  },
  {
   "cell_type": "markdown",
   "metadata": {},
   "source": [
    "Now the right hand side function can be written:"
   ]
  },
  {
   "cell_type": "code",
   "execution_count": null,
   "metadata": {},
   "outputs": [],
   "source": [
    "def rhs(phi, theta, alpha, beta, mp, mb, l, r, g):\n",
    "    theta_dot = alpha\n",
    "    phi_dot = beta\n",
    "    alpha_dot = eval_alphadot(phi, theta, alpha, beta, mp, mb, l, r, g)\n",
    "    beta_dot = eval_betadot(phi, theta, alpha, beta, mp, mb, l, r, g)\n",
    "    return theta_dot, phi_dot, alpha_dot, beta_dot"
   ]
  },
  {
   "cell_type": "code",
   "execution_count": null,
   "metadata": {},
   "outputs": [],
   "source": [
    "rhs(1, 2, 3, 4, 5, 6, 7, 8, 9)"
   ]
  },
  {
   "cell_type": "markdown",
   "metadata": {},
   "source": [
    "This function also works with numpy arrays:"
   ]
  },
  {
   "cell_type": "code",
   "execution_count": null,
   "metadata": {},
   "outputs": [],
   "source": [
    "rhs(np.array([1, 2]), np.array([3, 4]), np.array([5, 6]), np.array([7, 8]), 9, 10, 11, 12, 13)"
   ]
  },
  {
   "cell_type": "markdown",
   "metadata": {},
   "source": [
    "Add this function as the differential equation function of the system."
   ]
  },
  {
   "cell_type": "code",
   "execution_count": null,
   "metadata": {},
   "outputs": [],
   "source": [
    "sys.diff_eq_func = rhs"
   ]
  },
  {
   "cell_type": "markdown",
   "metadata": {},
   "source": [
    "Now the `free_response` function can be called to simulation the nonlinear system."
   ]
  },
  {
   "cell_type": "code",
   "execution_count": null,
   "metadata": {},
   "outputs": [],
   "source": [
    "traj = sys.free_response(20, sample_rate=500)"
   ]
  },
  {
   "cell_type": "code",
   "execution_count": null,
   "metadata": {},
   "outputs": [],
   "source": [
    "traj[['theta', 'phi']].plot(subplots=True);"
   ]
  },
  {
   "cell_type": "code",
   "execution_count": null,
   "metadata": {},
   "outputs": [],
   "source": [
    "sys.animate_configuration(fps=30)"
   ]
  },
  {
   "cell_type": "markdown",
   "metadata": {},
   "source": [
    "# Equilibrium\n",
    "\n",
    "This system four equilibrium points.\n",
    "\n",
    "1. $\\theta = \\phi = \\alpha = \\beta = 0$\n",
    "2. $\\theta = \\pi, \\phi=\\alpha=\\beta=0$\n",
    "3. $\\theta = \\pi, \\phi = -\\pi, \\alpha=\\beta=0$\n",
    "4. $\\theta = 0, \\phi = \\pi, \\alpha=\\beta=0$\n",
    "\n",
    "If you set the velocities and accelerations equal to zero in the equations of motion you can then solve for the coordinates that make these equations equal to zero. This is the static force balance equations."
   ]
  },
  {
   "cell_type": "code",
   "execution_count": null,
   "metadata": {},
   "outputs": [],
   "source": [
    "f_static = f.subs(dict(zip(u.diff(), [0, 0]))).subs(dict(zip(u, [0, 0])))\n",
    "f_static"
   ]
  },
  {
   "cell_type": "code",
   "execution_count": null,
   "metadata": {},
   "outputs": [],
   "source": [
    "sm.solve(f_static, theta, phi)"
   ]
  },
  {
   "cell_type": "markdown",
   "metadata": {},
   "source": [
    "Let's look at the simulation with the initial condition very close to an equilibrium point:"
   ]
  },
  {
   "cell_type": "code",
   "execution_count": null,
   "metadata": {},
   "outputs": [],
   "source": [
    "sys.coordinates['theta'] = np.deg2rad(180.0000001)\n",
    "sys.coordinates['phi'] = -np.deg2rad(180.00000001)"
   ]
  },
  {
   "cell_type": "code",
   "execution_count": null,
   "metadata": {},
   "outputs": [],
   "source": [
    "traj = sys.free_response(20, sample_rate=500)"
   ]
  },
  {
   "cell_type": "code",
   "execution_count": null,
   "metadata": {},
   "outputs": [],
   "source": [
    "sys.animate_configuration(fps=30)"
   ]
  },
  {
   "cell_type": "code",
   "execution_count": null,
   "metadata": {},
   "outputs": [],
   "source": [
    "traj[['theta', 'phi']].plot(subplots=True);"
   ]
  },
  {
   "cell_type": "markdown",
   "metadata": {},
   "source": [
    "This equlibrium point is an *unstable equlibrium*."
   ]
  },
  {
   "cell_type": "markdown",
   "metadata": {},
   "source": [
    "# Linearizing the system\n",
    "\n",
    "The equations of motion can be linearized about one of the equilibrium points. This can be done by computing the linear terms of the multivariate Taylor Series expansion. This expansion can be expressed as:\n",
    "\n",
    "$$\n",
    "\\mathbf{f}_{linear} = \\mathbf{f}(\\mathbf{v}_{eq}) + \\mathbf{J}_f(\\mathbf{v}_{eq}) (\\mathbf{v} - \\mathbf{v}_{eq})\n",
    "$$\n",
    "\n",
    "where $\\mathbf{J}_f$ is the Jacobian of $\\mathbf{f}$ with respect to $\\mathbf{v}$ and:\n",
    "\n",
    "$$\n",
    "\\mathbf{v} = \\begin{bmatrix}\n",
    "\\theta\\\\\n",
    "\\phi \\\\\n",
    "\\alpha \\\\\n",
    "\\beta \\\\\n",
    "\\dot{\\alpha} \\\\\n",
    "\\dot{\\beta}\n",
    "\\end{bmatrix}\n",
    "$$\n",
    "\n",
    "In our case let's linearize about the static position where $\\theta=\\phi=0$."
   ]
  },
  {
   "cell_type": "code",
   "execution_count": null,
   "metadata": {},
   "outputs": [],
   "source": [
    "f"
   ]
  },
  {
   "cell_type": "code",
   "execution_count": null,
   "metadata": {},
   "outputs": [],
   "source": [
    "v = sm.Matrix([theta, phi, alpha, beta, alpha.diff(), beta.diff()])\n",
    "v"
   ]
  },
  {
   "cell_type": "code",
   "execution_count": null,
   "metadata": {},
   "outputs": [],
   "source": [
    "v0 = sm.zeros(len(v), 1)\n",
    "v0"
   ]
  },
  {
   "cell_type": "code",
   "execution_count": null,
   "metadata": {},
   "outputs": [],
   "source": [
    "v_eq_sub = dict(zip(v, v0))\n",
    "v_eq_sub"
   ]
  },
  {
   "cell_type": "markdown",
   "metadata": {},
   "source": [
    "The linear equations are then:"
   ]
  },
  {
   "cell_type": "code",
   "execution_count": null,
   "metadata": {},
   "outputs": [],
   "source": [
    "f_lin = f.subs(v_eq_sub) + f.jacobian(v).subs(v_eq_sub) * (v - v0)\n",
    "f_lin"
   ]
  },
  {
   "cell_type": "markdown",
   "metadata": {},
   "source": [
    "Note that all of the terms that involve the coordinates, speeds, and their derivatives are linear terms, i.e. simple linear coefficients. These linear equations can be put into this canonical form:\n",
    "\n",
    "$$\\mathbf{M}\\dot{\\mathbf{u}} + \\mathbf{C}\\mathbf{u} + \\mathbf{K} \\mathbf{q} = \\mathbf{F}$$\n",
    "\n",
    "with:\n",
    "\n",
    "- $\\mathbf{M}$ as the mass matrix\n",
    "- $\\mathbf{C}$ as the damping matrix\n",
    "- $\\mathbf{K}$ as the stiffness matrix\n",
    "- $\\mathbf{F}$ as the forcing vector\n",
    "\n",
    "The Jacobian can again be utlized to extract the linear coefficients."
   ]
  },
  {
   "cell_type": "code",
   "execution_count": null,
   "metadata": {},
   "outputs": [],
   "source": [
    "q = sm.Matrix([theta, phi])\n",
    "q"
   ]
  },
  {
   "cell_type": "code",
   "execution_count": null,
   "metadata": {},
   "outputs": [],
   "source": [
    "u"
   ]
  },
  {
   "cell_type": "code",
   "execution_count": null,
   "metadata": {},
   "outputs": [],
   "source": [
    "M = f_lin.jacobian(u.diff())\n",
    "M"
   ]
  },
  {
   "cell_type": "code",
   "execution_count": null,
   "metadata": {},
   "outputs": [],
   "source": [
    "C = f_lin.jacobian(u)\n",
    "C"
   ]
  },
  {
   "cell_type": "code",
   "execution_count": null,
   "metadata": {},
   "outputs": [],
   "source": [
    "K = f_lin.jacobian(q)\n",
    "K"
   ]
  },
  {
   "cell_type": "code",
   "execution_count": null,
   "metadata": {},
   "outputs": [],
   "source": [
    "F = sm.simplify(f_lin - M * u.diff() - C * u - K * q)\n",
    "F"
   ]
  },
  {
   "cell_type": "markdown",
   "metadata": {},
   "source": [
    "# Simulate the linear system"
   ]
  },
  {
   "cell_type": "code",
   "execution_count": null,
   "metadata": {},
   "outputs": [],
   "source": [
    "from resonance.linear_systems import BallChannelPendulumSystem"
   ]
  },
  {
   "cell_type": "code",
   "execution_count": null,
   "metadata": {},
   "outputs": [],
   "source": [
    "lin_sys = BallChannelPendulumSystem()"
   ]
  },
  {
   "cell_type": "markdown",
   "metadata": {},
   "source": [
    "For linear systems, a function that calculates the canonical coefficient matrices should be created. Each of the canonical matrices should be created as 2 x 2 NumPy arrays."
   ]
  },
  {
   "cell_type": "code",
   "execution_count": null,
   "metadata": {},
   "outputs": [],
   "source": [
    "def canon_coeff_matrices(mp, mb, l, g, r):\n",
    "    M = np.array([[mp * l**2 + mb * r**2, -mb * r**2],\n",
    "                  [-mb * r**2, mb * r**2]])\n",
    "    C = np.zeros((2, 2))\n",
    "    K = np.array([[g * l * mp, g * mb * r],\n",
    "                  [g * mb * r, g * mb * r]])\n",
    "    return M, C, K"
   ]
  },
  {
   "cell_type": "code",
   "execution_count": null,
   "metadata": {},
   "outputs": [],
   "source": [
    "lin_sys.canonical_coeffs_func = canon_coeff_matrices"
   ]
  },
  {
   "cell_type": "code",
   "execution_count": null,
   "metadata": {},
   "outputs": [],
   "source": [
    "M_num, C_num, K_num = lin_sys.canonical_coefficients()"
   ]
  },
  {
   "cell_type": "code",
   "execution_count": null,
   "metadata": {},
   "outputs": [],
   "source": [
    "M_num"
   ]
  },
  {
   "cell_type": "code",
   "execution_count": null,
   "metadata": {},
   "outputs": [],
   "source": [
    "C_num"
   ]
  },
  {
   "cell_type": "code",
   "execution_count": null,
   "metadata": {},
   "outputs": [],
   "source": [
    "K_num"
   ]
  },
  {
   "cell_type": "code",
   "execution_count": null,
   "metadata": {},
   "outputs": [],
   "source": [
    "lin_traj = lin_sys.free_response(20, sample_rate=500)"
   ]
  },
  {
   "cell_type": "code",
   "execution_count": null,
   "metadata": {},
   "outputs": [],
   "source": [
    "lin_traj[['theta', 'phi']].plot(subplots=True);"
   ]
  },
  {
   "cell_type": "markdown",
   "metadata": {},
   "source": [
    "# Compare the nonlinear and linear simulations"
   ]
  },
  {
   "cell_type": "code",
   "execution_count": null,
   "metadata": {},
   "outputs": [],
   "source": [
    "sys.coordinates['theta'] = np.deg2rad(10)\n",
    "sys.coordinates['phi'] = np.deg2rad(-10)"
   ]
  },
  {
   "cell_type": "code",
   "execution_count": null,
   "metadata": {},
   "outputs": [],
   "source": [
    "lin_sys.coordinates['theta'] = np.deg2rad(10)\n",
    "lin_sys.coordinates['phi'] = np.deg2rad(-10)"
   ]
  },
  {
   "cell_type": "code",
   "execution_count": null,
   "metadata": {},
   "outputs": [],
   "source": [
    "traj = sys.free_response(10.0)"
   ]
  },
  {
   "cell_type": "code",
   "execution_count": null,
   "metadata": {},
   "outputs": [],
   "source": [
    "lin_traj = lin_sys.free_response(10.0)"
   ]
  },
  {
   "cell_type": "code",
   "execution_count": null,
   "metadata": {},
   "outputs": [],
   "source": [
    "axes = traj[['theta', 'phi']].plot(subplots=True, color='red')\n",
    "axes = lin_traj[['theta', 'phi']].plot(subplots=True, color='blue', ax=axes)\n",
    "axes[0].legend([r'nonlin $\\theta$', r'lin $\\theta$'])\n",
    "axes[1].legend([r'nonlin $\\phi$', r'lin $\\phi$']);"
   ]
  }
 ],
 "metadata": {
  "anaconda-cloud": {},
  "kernelspec": {
   "display_name": "Python [default]",
   "language": "python",
   "name": "python3"
  },
  "language_info": {
   "codemirror_mode": {
    "name": "ipython",
    "version": 3
   },
   "file_extension": ".py",
   "mimetype": "text/x-python",
   "name": "python",
   "nbconvert_exporter": "python",
   "pygments_lexer": "ipython3",
   "version": "3.5.5"
  }
 },
 "nbformat": 4,
 "nbformat_minor": 2
}
