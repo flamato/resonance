{
 "cells": [
  {
   "cell_type": "markdown",
   "metadata": {},
   "source": [
    "# Modes of the Ball-Channel Pendulum Linear Model"
   ]
  },
  {
   "cell_type": "code",
   "execution_count": null,
   "metadata": {},
   "outputs": [],
   "source": [
    "import numpy as np\n",
    "import numpy.linalg as la\n",
    "import matplotlib.pyplot as plt\n",
    "from resonance.linear_systems import BallChannelPendulumSystem"
   ]
  },
  {
   "cell_type": "code",
   "execution_count": null,
   "metadata": {},
   "outputs": [],
   "source": [
    "%matplotlib inline"
   ]
  },
  {
   "cell_type": "markdown",
   "metadata": {},
   "source": [
    "A (almost) premade system is available in `resonance`. The only thing missing is the function that calculates the canonical coefficients."
   ]
  },
  {
   "cell_type": "code",
   "execution_count": null,
   "metadata": {},
   "outputs": [],
   "source": [
    "sys = BallChannelPendulumSystem()"
   ]
  },
  {
   "cell_type": "code",
   "execution_count": null,
   "metadata": {},
   "outputs": [],
   "source": [
    "sys.constants"
   ]
  },
  {
   "cell_type": "code",
   "execution_count": null,
   "metadata": {},
   "outputs": [],
   "source": [
    "sys.states"
   ]
  },
  {
   "cell_type": "code",
   "execution_count": null,
   "metadata": {},
   "outputs": [],
   "source": [
    "def can_coeffs(mp, mb, l, g, r):\n",
    "    M = np.array([[mp * l**2 + mb * r**2, -mb * r**2],\n",
    "                  [-mb * r**2, mb * r**2]])\n",
    "    C = np.zeros((2, 2))\n",
    "    K = np.array([[g * l * mp, g * mb * r],\n",
    "                  [g * mb * r, g * mb * r]])\n",
    "    return M, C, K"
   ]
  },
  {
   "cell_type": "code",
   "execution_count": null,
   "metadata": {},
   "outputs": [],
   "source": [
    "sys.canonical_coeffs_func = can_coeffs"
   ]
  },
  {
   "cell_type": "markdown",
   "metadata": {},
   "source": [
    "Once the system is completely defined the mass, damping, and stiffness matrices can be calculated and inspected:"
   ]
  },
  {
   "cell_type": "code",
   "execution_count": null,
   "metadata": {},
   "outputs": [],
   "source": [
    "M, C, K = sys.canonical_coefficients()"
   ]
  },
  {
   "cell_type": "code",
   "execution_count": null,
   "metadata": {},
   "outputs": [],
   "source": [
    "M"
   ]
  },
  {
   "cell_type": "code",
   "execution_count": null,
   "metadata": {},
   "outputs": [],
   "source": [
    "C"
   ]
  },
  {
   "cell_type": "code",
   "execution_count": null,
   "metadata": {},
   "outputs": [],
   "source": [
    "K"
   ]
  },
  {
   "cell_type": "markdown",
   "metadata": {},
   "source": [
    "## Convert to mass normalized form (calculate $\\tilde{\\mathbf{K}}$)\n",
    "\n",
    "First calculate the Cholesky lower triangular decomposition matrix of $\\mathbf{M}$, which is symmetric and postive definite."
   ]
  },
  {
   "cell_type": "code",
   "execution_count": null,
   "metadata": {},
   "outputs": [],
   "source": [
    "L = la.cholesky(M)\n",
    "L"
   ]
  },
  {
   "cell_type": "markdown",
   "metadata": {},
   "source": [
    "The transpose can be computed with `np.transpose()`, `L.transpose()` or `L.T` for short:"
   ]
  },
  {
   "cell_type": "code",
   "execution_count": null,
   "metadata": {},
   "outputs": [],
   "source": [
    "np.transpose(L)"
   ]
  },
  {
   "cell_type": "code",
   "execution_count": null,
   "metadata": {},
   "outputs": [],
   "source": [
    "L.transpose()"
   ]
  },
  {
   "cell_type": "code",
   "execution_count": null,
   "metadata": {},
   "outputs": [],
   "source": [
    "L.T"
   ]
  },
  {
   "cell_type": "markdown",
   "metadata": {},
   "source": [
    "Check that $\\mathbf{L}\\mathbf{L}^T$ returns $M$. Note that in Python the `@` operator is used for matrix multiplication. The `*` operator will do elementwise multiplication."
   ]
  },
  {
   "cell_type": "code",
   "execution_count": null,
   "metadata": {},
   "outputs": [],
   "source": [
    "L @ L.T"
   ]
  },
  {
   "cell_type": "markdown",
   "metadata": {},
   "source": [
    "`inv()` computes the inverse, giving $\\left(\\mathbf{L}^T\\right)^{-1}$:"
   ]
  },
  {
   "cell_type": "code",
   "execution_count": null,
   "metadata": {},
   "outputs": [],
   "source": [
    "la.inv(L.T)"
   ]
  },
  {
   "cell_type": "markdown",
   "metadata": {},
   "source": [
    "$\\mathbf{L}^{-1}\\mathbf{M}\\left(\\mathbf{L}^T\\right)^{-1} = \\mathbf{I}$. Note that the off-diagonal terms are very small numbers. The reason these are not precisely zero is due to floating point arithmetic and the associated truncation errors."
   ]
  },
  {
   "cell_type": "code",
   "execution_count": null,
   "metadata": {},
   "outputs": [],
   "source": [
    "la.inv(L) @ M @ la.inv(L.T)"
   ]
  },
  {
   "cell_type": "markdown",
   "metadata": {},
   "source": [
    "$\\tilde{\\mathbf{K}} = \\mathbf{L}^{-1}\\mathbf{K}\\left(\\mathbf{L}^T\\right)^{-1}$. Note that this matrix is symmetric. It is guaranteed to be symmetric if $\\mathbf{K}$ is symmetric."
   ]
  },
  {
   "cell_type": "code",
   "execution_count": null,
   "metadata": {},
   "outputs": [],
   "source": [
    "Ktilde = la.inv(L) @ K @ la.inv(L.T)\n",
    "Ktilde"
   ]
  },
  {
   "cell_type": "markdown",
   "metadata": {},
   "source": [
    "The entries of $\\tilde{\\mathbf{K}}$ can be accessed as so:"
   ]
  },
  {
   "cell_type": "code",
   "execution_count": null,
   "metadata": {},
   "outputs": [],
   "source": [
    "k11 = Ktilde[0, 0]\n",
    "k12 = Ktilde[0, 1]\n",
    "k21 = Ktilde[1, 0]\n",
    "k22 = Ktilde[1, 1]"
   ]
  },
  {
   "cell_type": "markdown",
   "metadata": {},
   "source": [
    "# Calculate the eigenvalues of $\\tilde{\\mathbf{K}}$\n",
    "\n",
    "The eigenvalues of this 2 x 2 matrix are found by forming the characteristic equation from:\n",
    "\n",
    "$$\\textrm{det}\\left(\\tilde{\\mathbf{K}} - \\lambda \\mathbf{I}\\right) = 0$$\n",
    "\n",
    "and solving the resulting quadratic polynomial for its roots, which are the eigenvalues."
   ]
  },
  {
   "cell_type": "code",
   "execution_count": null,
   "metadata": {},
   "outputs": [],
   "source": [
    "lam1 = (k11 + k22) / 2 + np.sqrt((k11 + k22)**2 - 4 * (k11 * k22 - k12*k21)) / 2\n",
    "lam1"
   ]
  },
  {
   "cell_type": "code",
   "execution_count": null,
   "metadata": {},
   "outputs": [],
   "source": [
    "lam2 = (k11 + k22) / 2 - np.sqrt((k11 + k22)**2 - 4 * (k11 * k22 - k12*k21)) / 2\n",
    "lam2"
   ]
  },
  {
   "cell_type": "markdown",
   "metadata": {},
   "source": [
    "# Calculate the eigenfrequencies of the system\n",
    "\n",
    "$\\omega_i = \\sqrt{\\lambda_i}$"
   ]
  },
  {
   "cell_type": "code",
   "execution_count": null,
   "metadata": {},
   "outputs": [],
   "source": [
    "omega1 = np.sqrt(lam1)\n",
    "omega1"
   ]
  },
  {
   "cell_type": "code",
   "execution_count": null,
   "metadata": {},
   "outputs": [],
   "source": [
    "omega2 = np.sqrt(lam2)\n",
    "omega2"
   ]
  },
  {
   "cell_type": "markdown",
   "metadata": {},
   "source": [
    "And in Hertz:"
   ]
  },
  {
   "cell_type": "code",
   "execution_count": null,
   "metadata": {},
   "outputs": [],
   "source": [
    "fn1 = omega1/2/np.pi\n",
    "fn1"
   ]
  },
  {
   "cell_type": "code",
   "execution_count": null,
   "metadata": {},
   "outputs": [],
   "source": [
    "fn2 = omega2/2/np.pi\n",
    "fn2"
   ]
  },
  {
   "cell_type": "markdown",
   "metadata": {},
   "source": [
    "# Calculate the eigenvectors of $\\tilde{\\mathbf{K}}$\n",
    "\n",
    "The eigenvectors can be found by substituting the value for $\\lambda$ into:\n",
    "\n",
    "$$\\tilde{\\mathbf{K}}\\hat{q}_0 = \\lambda \\hat{q}_0$$\n",
    "\n",
    "and solving for $\\hat{q}_0$."
   ]
  },
  {
   "cell_type": "code",
   "execution_count": null,
   "metadata": {},
   "outputs": [],
   "source": [
    "v1 = np.array([-k12 / (k11 - lam1), 1])"
   ]
  },
  {
   "cell_type": "code",
   "execution_count": null,
   "metadata": {},
   "outputs": [],
   "source": [
    "v2 = np.array([-k12 / (k11 - lam2), 1])"
   ]
  },
  {
   "cell_type": "markdown",
   "metadata": {},
   "source": [
    "Check that they are orthogonal, i.e. the dot product should be zero."
   ]
  },
  {
   "cell_type": "code",
   "execution_count": null,
   "metadata": {},
   "outputs": [],
   "source": [
    "np.dot(v1, v2)"
   ]
  },
  {
   "cell_type": "markdown",
   "metadata": {},
   "source": [
    "The `norm()` function calculates the Euclidean norm, i.e. the vector's magnitude and the vectors can be normalized like so:"
   ]
  },
  {
   "cell_type": "code",
   "execution_count": null,
   "metadata": {},
   "outputs": [],
   "source": [
    "v1_hat = v1 / np.linalg.norm(v1)\n",
    "v2_hat = v2 / np.linalg.norm(v2)"
   ]
  },
  {
   "cell_type": "code",
   "execution_count": null,
   "metadata": {},
   "outputs": [],
   "source": [
    "v1_hat"
   ]
  },
  {
   "cell_type": "code",
   "execution_count": null,
   "metadata": {},
   "outputs": [],
   "source": [
    "v2_hat"
   ]
  },
  {
   "cell_type": "code",
   "execution_count": null,
   "metadata": {},
   "outputs": [],
   "source": [
    "np.linalg.norm(v1_hat)"
   ]
  },
  {
   "cell_type": "markdown",
   "metadata": {},
   "source": [
    "For any size $\\tilde{\\mathbf{K}}$ the `eig()` function can be used to calculate the eigenvalues and the normalized eigenvectors with one function call:"
   ]
  },
  {
   "cell_type": "code",
   "execution_count": null,
   "metadata": {},
   "outputs": [],
   "source": [
    "evals, evecs = np.linalg.eig(Ktilde)"
   ]
  },
  {
   "cell_type": "code",
   "execution_count": null,
   "metadata": {},
   "outputs": [],
   "source": [
    "evals"
   ]
  },
  {
   "cell_type": "code",
   "execution_count": null,
   "metadata": {},
   "outputs": [],
   "source": [
    "evecs"
   ]
  },
  {
   "cell_type": "markdown",
   "metadata": {},
   "source": [
    "The columns of `evecs` correspond to the entries of `evals`."
   ]
  },
  {
   "cell_type": "code",
   "execution_count": null,
   "metadata": {},
   "outputs": [],
   "source": [
    "P = evecs\n",
    "P"
   ]
  },
  {
   "cell_type": "markdown",
   "metadata": {},
   "source": [
    "If P contains columns that are orthnormal, then $\\mathbf{P}^T \\mathbf{P} = \\mathbf{I}$. Check this with:"
   ]
  },
  {
   "cell_type": "code",
   "execution_count": null,
   "metadata": {},
   "outputs": [],
   "source": [
    "P.T @ P"
   ]
  },
  {
   "cell_type": "markdown",
   "metadata": {},
   "source": [
    "$\\mathbf{P}$ can be used to find the matrix $\\Lambda$ that decouples the differential equations."
   ]
  },
  {
   "cell_type": "code",
   "execution_count": null,
   "metadata": {},
   "outputs": [],
   "source": [
    "Lam = P.T @ Ktilde @ P\n",
    "Lam"
   ]
  },
  {
   "cell_type": "markdown",
   "metadata": {},
   "source": [
    "# Formulate solution to ODEs (simulation)"
   ]
  },
  {
   "cell_type": "markdown",
   "metadata": {},
   "source": [
    "The trajectory of the coordinates can be found with:\n",
    "\n",
    "$$\n",
    "\\bar{c}(t) = \\sum_{i=1}^n c_i \\sin(\\omega_i t + \\phi_i) \\bar{u}_i\n",
    "$$\n",
    "\n",
    "where\n",
    "\n",
    "$$\n",
    "\\phi_i = \\arctan \\frac{\\omega_i \\hat{q}_{0i}^T \\bar{q}(0)}{\\hat{q}_{0i}^T \\dot{\\bar{q}}(0)}\n",
    "$$\n",
    "\n",
    "and\n",
    "\n",
    "$$\n",
    "c_i = \\frac{\\hat{q}^T_{0i} \\bar{q}(0)}{\\sin\\phi_i}\n",
    "$$\n",
    "\n",
    "$c_i$ are the modal participation factors and reflect what propotional of each mode is excited given specific initial conditions. If the initial conditions are the eigenmode, $\\bar{u}_i$, the all but the $i$th $c_i$ will be zero.\n",
    "\n",
    "A matrix $\\mathbf{S} = \\left(\\mathbf{L}^T\\right)^{-1} = \\begin{bmatrix}\\bar{u}_1 \\quad \\bar{u}_2\\end{bmatrix}$ can be computed such that the columns are $\\bar{u}_i$."
   ]
  },
  {
   "cell_type": "code",
   "execution_count": null,
   "metadata": {},
   "outputs": [],
   "source": [
    "S = la.inv(L.T) @ P\n",
    "S"
   ]
  },
  {
   "cell_type": "code",
   "execution_count": null,
   "metadata": {},
   "outputs": [],
   "source": [
    "u1 = S[:, 0]\n",
    "u2 = S[:, 1]"
   ]
  },
  {
   "cell_type": "code",
   "execution_count": null,
   "metadata": {},
   "outputs": [],
   "source": [
    "u1"
   ]
  },
  {
   "cell_type": "code",
   "execution_count": null,
   "metadata": {},
   "outputs": [],
   "source": [
    "u2"
   ]
  },
  {
   "cell_type": "markdown",
   "metadata": {},
   "source": [
    "Define the initial coordinates as a scalar factor of the second eigenvector, which sets these values to small angles."
   ]
  },
  {
   "cell_type": "code",
   "execution_count": null,
   "metadata": {},
   "outputs": [],
   "source": [
    "c0 = S[:, 1] / 400\n",
    "np.rad2deg(c0)"
   ]
  },
  {
   "cell_type": "markdown",
   "metadata": {},
   "source": [
    "Set the initial speeds to zero:"
   ]
  },
  {
   "cell_type": "code",
   "execution_count": null,
   "metadata": {},
   "outputs": [],
   "source": [
    "s0 = np.zeros(2)\n",
    "s0"
   ]
  },
  {
   "cell_type": "markdown",
   "metadata": {},
   "source": [
    "The initial mass normalized coordinates and speeds are then:"
   ]
  },
  {
   "cell_type": "code",
   "execution_count": null,
   "metadata": {},
   "outputs": [],
   "source": [
    "q0 = L.T @ c0\n",
    "q0"
   ]
  },
  {
   "cell_type": "code",
   "execution_count": null,
   "metadata": {},
   "outputs": [],
   "source": [
    "qd0 = L.T @ s0\n",
    "qd0"
   ]
  },
  {
   "cell_type": "markdown",
   "metadata": {},
   "source": [
    "Calculate the modal freqencies in radians per second."
   ]
  },
  {
   "cell_type": "code",
   "execution_count": null,
   "metadata": {},
   "outputs": [],
   "source": [
    "ws = np.sqrt(evals)\n",
    "ws"
   ]
  },
  {
   "cell_type": "markdown",
   "metadata": {},
   "source": [
    "The phase shifts for each mode can be found. Note that it is important to use `arctan2()` so that the quadrant and thus sign of the arc tangent is properly handled.\n",
    "\n",
    "$$\n",
    "\\phi_i = \\arctan \\frac{\\omega_i \\hat{q}_{0i}^T \\bar{q}(0)}{\\hat{q}_{0i}^T \\dot{\\bar{q}}(0)}\n",
    "$$"
   ]
  },
  {
   "cell_type": "code",
   "execution_count": null,
   "metadata": {},
   "outputs": [],
   "source": [
    "phi1 = np.arctan2(ws * P[:, 0] @ q0, P[:, 0] @ qd0)\n",
    "phi1"
   ]
  },
  {
   "cell_type": "code",
   "execution_count": null,
   "metadata": {},
   "outputs": [],
   "source": [
    "phi2 =  np.arctan2(ws * P[:, 1] @ q0, P[:, 1] @ qd0)\n",
    "phi2"
   ]
  },
  {
   "cell_type": "markdown",
   "metadata": {},
   "source": [
    "All $\\phi$'s can be calculated in one line using NumPy's broadcasting feature:"
   ]
  },
  {
   "cell_type": "code",
   "execution_count": null,
   "metadata": {},
   "outputs": [],
   "source": [
    "phis = np.arctan2(ws * P.T @ q0, P.T @ qd0)\n",
    "phis"
   ]
  },
  {
   "cell_type": "markdown",
   "metadata": {},
   "source": [
    "The phase shifts for this particular initial condition are $\\pm90$ degrees."
   ]
  },
  {
   "cell_type": "code",
   "execution_count": null,
   "metadata": {},
   "outputs": [],
   "source": [
    "np.rad2deg(phis)"
   ]
  },
  {
   "cell_type": "markdown",
   "metadata": {},
   "source": [
    "Now calculate the modal participation factors.\n",
    "\n",
    "$$\n",
    "c_i = \\frac{\\hat{q}^T_{0i} \\bar{q}(0)}{\\sin\\phi_i}\n",
    "$$"
   ]
  },
  {
   "cell_type": "code",
   "execution_count": null,
   "metadata": {},
   "outputs": [],
   "source": [
    "cs = P.T @ q0 / np.sin(phis)\n",
    "cs"
   ]
  },
  {
   "cell_type": "markdown",
   "metadata": {},
   "source": [
    "Note that the first participation factor is zero. This is because we've set the initial coordinate to be a scalar function of the second eigenvector."
   ]
  },
  {
   "cell_type": "markdown",
   "metadata": {},
   "source": [
    "## Simulate"
   ]
  },
  {
   "cell_type": "code",
   "execution_count": null,
   "metadata": {},
   "outputs": [],
   "source": [
    "t = np.linspace(0, 5, num=500)"
   ]
  },
  {
   "cell_type": "code",
   "execution_count": null,
   "metadata": {},
   "outputs": [],
   "source": [
    "cs[1] * np.sin(ws[1] * t)"
   ]
  },
  {
   "cell_type": "markdown",
   "metadata": {},
   "source": [
    "The following line will give an error because the dimensions of `u1` are not compatible with the dimensions of the preceding portion. It is possible for a single line to work like this if you take advatnage of NumPy's broadcasting rules. See https://scipy-lectures.org/intro/numpy/operations.html#broadcasting for more info. The `tile()` function is used to repeat `u1` as many times as needed."
   ]
  },
  {
   "cell_type": "code",
   "execution_count": null,
   "metadata": {},
   "outputs": [],
   "source": [
    "# cs[1] * np.sin(ws[1] * t) * u1"
   ]
  },
  {
   "cell_type": "code",
   "execution_count": null,
   "metadata": {},
   "outputs": [],
   "source": [
    "c1 = cs[1] * np.sin(ws[1] * t) * np.tile(u1, (len(t), 1)).T\n",
    "c1.shape"
   ]
  },
  {
   "cell_type": "markdown",
   "metadata": {},
   "source": [
    "`tile()` can be used to create a 2 x 1000 vector that repeats the vector $\\hat{u}_i$ allowing a single line to calculate the mode contribution."
   ]
  },
  {
   "cell_type": "markdown",
   "metadata": {},
   "source": [
    "Now use a loop to calculate the contribution of each mode and build the summation of contributions from each mode:"
   ]
  },
  {
   "cell_type": "code",
   "execution_count": null,
   "metadata": {},
   "outputs": [],
   "source": [
    "ct = np.zeros((2, len(t)))  # 2 x m array to hold coordinates as a function of time\n",
    "for ci, wi, phii, ui in zip(cs, ws, phis, S.T):\n",
    "    print(ci, wi, phii, ui)\n",
    "    ct += ci * np.sin(wi * t + phii) * np.tile(ui, (len(t), 1)).T"
   ]
  },
  {
   "cell_type": "code",
   "execution_count": null,
   "metadata": {},
   "outputs": [],
   "source": [
    "def sim(c0, s0, t):\n",
    "    \"\"\"Returns the time history of the coordinate vector, c(t) given the initial state and time.\n",
    "    \n",
    "    Parameters\n",
    "    ==========\n",
    "    c0 : ndarray, shape(n,)\n",
    "    s0 : ndarray, shape(n,)\n",
    "    t : ndarray, shape(m,)\n",
    "    \n",
    "    Returns\n",
    "    =======\n",
    "    c(t) : ndarray, shape(n, m)\n",
    "    \n",
    "    \"\"\"\n",
    "    q0 = L.T @ c0\n",
    "    qd0 = L.T @ s0\n",
    "    ws = np.sqrt(evals)\n",
    "    phis = np.arctan2(ws * P.T @ q0, P.T @ qd0)\n",
    "    cs = P.T @ q0 / np.sin(phis)\n",
    "    c = np.zeros((2, 1000))\n",
    "    for ci, wi, phii, ui in zip(cs, ws, phis, S.T):\n",
    "        c += ci * np.sin(wi * t + phii) * np.tile(ui, (len(t), 1)).T\n",
    "    return c"
   ]
  },
  {
   "cell_type": "markdown",
   "metadata": {},
   "source": [
    "Simulate and plot the first mode:"
   ]
  },
  {
   "cell_type": "code",
   "execution_count": null,
   "metadata": {},
   "outputs": [],
   "source": [
    "t = np.linspace(0, 5, num=1000)\n",
    "\n",
    "c0 = S[:, 0] / np.max(S[:, 0]) * np.deg2rad(10)\n",
    "s0 = np.zeros(2)\n",
    "\n",
    "fig, ax = plt.subplots()\n",
    "ax.plot(t, np.rad2deg(sim(c0, s0, t).T))\n",
    "ax.set_xlabel('Time [s]')\n",
    "ax.set_ylabel('Angle [deg]')\n",
    "ax.legend([r'$\\theta$', r'$\\phi$'])"
   ]
  },
  {
   "cell_type": "markdown",
   "metadata": {},
   "source": [
    "Simulate and plot the second mode:"
   ]
  },
  {
   "cell_type": "code",
   "execution_count": null,
   "metadata": {},
   "outputs": [],
   "source": [
    "t = np.linspace(0, 5, num=1000)\n",
    "\n",
    "c0 = S[:, 1] / np.max(S[:, 1]) * np.deg2rad(10)\n",
    "s0 = np.zeros(2)\n",
    "\n",
    "fig, ax = plt.subplots()\n",
    "ax.plot(t, np.rad2deg(sim(c0, s0, t).T))\n",
    "ax.set_xlabel('Time [s]')\n",
    "ax.set_ylabel('Angle [deg]')\n",
    "ax.legend([r'$\\theta$', r'$\\phi$'])"
   ]
  },
  {
   "cell_type": "markdown",
   "metadata": {},
   "source": [
    "Compare this to the free response from the system:"
   ]
  },
  {
   "cell_type": "code",
   "execution_count": null,
   "metadata": {},
   "outputs": [],
   "source": [
    "sys.coordinates['theta'] = c0[0]\n",
    "sys.coordinates['phi'] = c0[1]\n",
    "\n",
    "sys.speeds['alpha'] = 0\n",
    "sys.speeds['beta'] = 0"
   ]
  },
  {
   "cell_type": "code",
   "execution_count": null,
   "metadata": {},
   "outputs": [],
   "source": [
    "traj = sys.free_response(5.0)"
   ]
  },
  {
   "cell_type": "code",
   "execution_count": null,
   "metadata": {},
   "outputs": [],
   "source": [
    "traj[['theta', 'phi']].plot()"
   ]
  },
  {
   "cell_type": "code",
   "execution_count": null,
   "metadata": {},
   "outputs": [],
   "source": [
    "sys.animate_configuration(fps=30, repeat=False)"
   ]
  },
  {
   "cell_type": "markdown",
   "metadata": {},
   "source": [
    "Simulate with arbitrary initial conditions."
   ]
  },
  {
   "cell_type": "code",
   "execution_count": null,
   "metadata": {},
   "outputs": [],
   "source": [
    "sys.coordinates['theta'] = np.deg2rad(12.0)\n",
    "sys.coordinates['phi'] = np.deg2rad(3.0)\n",
    "traj = sys.free_response(5.0)"
   ]
  },
  {
   "cell_type": "code",
   "execution_count": null,
   "metadata": {},
   "outputs": [],
   "source": [
    "traj[['theta', 'phi']].plot()"
   ]
  }
 ],
 "metadata": {
  "kernelspec": {
   "display_name": "Python 3",
   "language": "python",
   "name": "python3"
  },
  "language_info": {
   "codemirror_mode": {
    "name": "ipython",
    "version": 3
   },
   "file_extension": ".py",
   "mimetype": "text/x-python",
   "name": "python",
   "nbconvert_exporter": "python",
   "pygments_lexer": "ipython3",
   "version": "3.6.7"
  }
 },
 "nbformat": 4,
 "nbformat_minor": 4
}
