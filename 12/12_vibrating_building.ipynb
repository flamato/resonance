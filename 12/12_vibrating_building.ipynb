{
 "cells": [
  {
   "cell_type": "markdown",
   "metadata": {},
   "source": [
    "# Modes of a Vibrating Building\n",
    "\n",
    "In this notebook we will find the vibrational modes of a simple model of a building. We will assume that the mass of the floors are much more than the mass of the walls and that the lateral stiffness of the walls can be modeled by a simple linear spring. We will investigate how the building may vibrate under initial conditions that could be caused by a gust of wind and during ground vibration."
   ]
  },
  {
   "cell_type": "code",
   "execution_count": null,
   "metadata": {},
   "outputs": [],
   "source": [
    "from IPython.display import YouTubeVideo"
   ]
  },
  {
   "cell_type": "code",
   "execution_count": null,
   "metadata": {},
   "outputs": [],
   "source": [
    "YouTubeVideo('g0cz-oDfUg0', width=600)"
   ]
  },
  {
   "cell_type": "code",
   "execution_count": null,
   "metadata": {},
   "outputs": [],
   "source": [
    "YouTubeVideo('hSwjkG3nv1c', width=600)"
   ]
  },
  {
   "cell_type": "code",
   "execution_count": null,
   "metadata": {},
   "outputs": [],
   "source": [
    "YouTubeVideo('kzVvd4Dk6sw', width=600)"
   ]
  },
  {
   "cell_type": "code",
   "execution_count": null,
   "metadata": {},
   "outputs": [],
   "source": [
    "import numpy as np\n",
    "import matplotlib.pyplot as plt\n",
    "from resonance.linear_systems import FourStoryBuildingSystem"
   ]
  },
  {
   "cell_type": "markdown",
   "metadata": {},
   "source": [
    "This gives a bit nicer printing of large NumPy arrays."
   ]
  },
  {
   "cell_type": "code",
   "execution_count": null,
   "metadata": {},
   "outputs": [],
   "source": [
    "np.set_printoptions(precision=5, linewidth=100, suppress=True)"
   ]
  },
  {
   "cell_type": "code",
   "execution_count": null,
   "metadata": {},
   "outputs": [],
   "source": [
    "%matplotlib inline"
   ]
  },
  {
   "cell_type": "markdown",
   "metadata": {},
   "source": [
    "# Simulate the four story building"
   ]
  },
  {
   "cell_type": "code",
   "execution_count": null,
   "metadata": {},
   "outputs": [],
   "source": [
    "sys = FourStoryBuildingSystem()"
   ]
  },
  {
   "cell_type": "code",
   "execution_count": null,
   "metadata": {},
   "outputs": [],
   "source": [
    "sys.constants"
   ]
  },
  {
   "cell_type": "code",
   "execution_count": null,
   "metadata": {},
   "outputs": [],
   "source": [
    "sys.coordinates"
   ]
  },
  {
   "cell_type": "code",
   "execution_count": null,
   "metadata": {},
   "outputs": [],
   "source": [
    "sys.plot_configuration();"
   ]
  },
  {
   "cell_type": "code",
   "execution_count": null,
   "metadata": {},
   "outputs": [],
   "source": [
    "traj = sys.free_response(30, sample_rate=10)"
   ]
  },
  {
   "cell_type": "code",
   "execution_count": null,
   "metadata": {},
   "outputs": [],
   "source": [
    "traj[list(sys.coordinates.keys())].plot(subplots=True);"
   ]
  },
  {
   "cell_type": "code",
   "execution_count": null,
   "metadata": {},
   "outputs": [],
   "source": [
    "sys.animate_configuration(fps=10)"
   ]
  },
  {
   "cell_type": "code",
   "execution_count": null,
   "metadata": {},
   "outputs": [],
   "source": [
    "M, C, K = sys.canonical_coefficients()"
   ]
  },
  {
   "cell_type": "code",
   "execution_count": null,
   "metadata": {},
   "outputs": [],
   "source": [
    "M"
   ]
  },
  {
   "cell_type": "code",
   "execution_count": null,
   "metadata": {},
   "outputs": [],
   "source": [
    "C"
   ]
  },
  {
   "cell_type": "code",
   "execution_count": null,
   "metadata": {},
   "outputs": [],
   "source": [
    "K"
   ]
  },
  {
   "cell_type": "markdown",
   "metadata": {},
   "source": [
    "# Exercise\n",
    "\n",
    "The system can be normalized by the mass matrix and transformed into a symmetric eigenvalue problem by introducing the new coordinate vector:\n",
    "\n",
    "$$\\mathbf{q}=\\mathbf{L}^T\\mathbf{x}$$\n",
    "\n",
    "$\\mathbf{L}$ is the Cholesky decomposition of the symmetric mass matrix, i.e. $\\mathbf{M}=\\mathbf{L}\\mathbf{L}^T$.\n",
    "\n",
    "The equation of motion becomes:\n",
    "\n",
    "$$\\ddot{\\mathbf{q}} + \\tilde{\\mathbf{K}} \\mathbf{q} = 0$$\n",
    "\n",
    "Compute $\\tilde{\\mathbf{K}}$."
   ]
  },
  {
   "cell_type": "code",
   "execution_count": null,
   "metadata": {},
   "outputs": [],
   "source": [
    "L = np.linalg.cholesky(M)\n",
    "L"
   ]
  },
  {
   "cell_type": "code",
   "execution_count": null,
   "metadata": {},
   "outputs": [],
   "source": [
    "M**0.5"
   ]
  },
  {
   "cell_type": "code",
   "execution_count": null,
   "metadata": {},
   "outputs": [],
   "source": [
    "import numpy.linalg as la"
   ]
  },
  {
   "cell_type": "code",
   "execution_count": null,
   "metadata": {},
   "outputs": [],
   "source": [
    "from numpy.linalg import inv"
   ]
  },
  {
   "cell_type": "code",
   "execution_count": null,
   "metadata": {},
   "outputs": [],
   "source": [
    "K_tilde = inv(L) @ K @ inv(L.T)"
   ]
  },
  {
   "cell_type": "code",
   "execution_count": null,
   "metadata": {},
   "outputs": [],
   "source": [
    "K_tilde"
   ]
  },
  {
   "cell_type": "markdown",
   "metadata": {},
   "source": [
    "Notice that $\\tilde{\\mathbf{K}}$ is symmetric, so we are guaranteed to get real eigenvalues and orthogonal eigenvectors when solving this system.\n",
    "\n",
    "# Exercise\n",
    "\n",
    "Find the eigenvalues and eigenvectors. Create the spectral matrix $\\mathbf{\\Lambda}$ and the matrix $P$ which contains the orthonormal eigenvectors of $\\tilde{\\mathbf{K}}$.\n",
    "\n",
    "$$\n",
    "\\mathbf{P} = \\left[ \\mathbf{v}_1, \\ldots, \\mathbf{v}_4 \\right]\n",
    "$$"
   ]
  },
  {
   "cell_type": "code",
   "execution_count": null,
   "metadata": {},
   "outputs": [],
   "source": [
    "evals, evecs = np.linalg.eig(K_tilde)\n",
    "evals"
   ]
  },
  {
   "cell_type": "code",
   "execution_count": null,
   "metadata": {},
   "outputs": [],
   "source": [
    "evecs"
   ]
  },
  {
   "cell_type": "code",
   "execution_count": null,
   "metadata": {},
   "outputs": [],
   "source": [
    "Lambda = np.diag(evals)\n",
    "Lambda"
   ]
  },
  {
   "cell_type": "code",
   "execution_count": null,
   "metadata": {},
   "outputs": [],
   "source": [
    "P = evecs"
   ]
  },
  {
   "cell_type": "markdown",
   "metadata": {},
   "source": [
    "# Exercise\n",
    "\n",
    "Prove that the eigenvectors in $\\mathbf{P}$ are orthonormal."
   ]
  },
  {
   "cell_type": "code",
   "execution_count": null,
   "metadata": {},
   "outputs": [],
   "source": [
    "np.dot(P[:, 0], P[:, 1])"
   ]
  },
  {
   "cell_type": "code",
   "execution_count": null,
   "metadata": {},
   "outputs": [],
   "source": [
    "np.linalg.norm(P[:, 0])"
   ]
  },
  {
   "cell_type": "code",
   "execution_count": null,
   "metadata": {},
   "outputs": [],
   "source": [
    "P[:, 0].T @ P[:, 1]"
   ]
  },
  {
   "cell_type": "code",
   "execution_count": null,
   "metadata": {},
   "outputs": [],
   "source": [
    "P[:, 0].T @ P[:, 0]"
   ]
  },
  {
   "cell_type": "markdown",
   "metadata": {},
   "source": [
    "An orthonormal matrix has the property that its transpose multiplied by itself is the identity matrix."
   ]
  },
  {
   "cell_type": "code",
   "execution_count": null,
   "metadata": {},
   "outputs": [],
   "source": [
    "P.T @ P"
   ]
  },
  {
   "cell_type": "markdown",
   "metadata": {},
   "source": [
    "# Exercise\n",
    "\n",
    "Find the natural freqencies of the system in both radians per second and Hertz, store them in an array in the order of the eigenvalues with names `ws` and `fs`."
   ]
  },
  {
   "cell_type": "code",
   "execution_count": null,
   "metadata": {},
   "outputs": [],
   "source": [
    "ws = np.sqrt(evals)\n",
    "ws"
   ]
  },
  {
   "cell_type": "code",
   "execution_count": null,
   "metadata": {},
   "outputs": [],
   "source": [
    "fs = ws / 2 / np.pi\n",
    "fs"
   ]
  },
  {
   "cell_type": "markdown",
   "metadata": {},
   "source": [
    "# Exercise\n",
    "\n",
    "Transform the eigenvectors back into the coordinate system associated with $\\mathbf{x}$. \n",
    "\n",
    "$$\n",
    "\\mathbf{S} = \\left[ \\mathbf{u}_1, \\ldots, \\mathbf{u}_4 \\right]\n",
    "$$"
   ]
  },
  {
   "cell_type": "code",
   "execution_count": null,
   "metadata": {},
   "outputs": [],
   "source": [
    "S = np.linalg.inv(L.T) @ P\n",
    "S"
   ]
  },
  {
   "cell_type": "code",
   "execution_count": null,
   "metadata": {},
   "outputs": [],
   "source": [
    "sys.coordinates"
   ]
  },
  {
   "cell_type": "markdown",
   "metadata": {},
   "source": [
    "# Exercise: visualize the modeshapes\n",
    "\n",
    "The eigenmodes (mode shapes) are contained in each column of $\\mathbf{S}$. Create a plot for each mode shape with these specifications:\n",
    "\n",
    "- The title of each plot should be the frequency of the corresponding modeshape in Hz.\n",
    "- The y axis should be made up of the values [0, 3, 6, 9, 12] meters.\n",
    "- The x axis should plot the five values. The first should be zero and the remaining values should be the components of the mode shape in order of the component associated with the lowest floor to the highest.\n",
    "- Plot lines with small circles at each data point."
   ]
  },
  {
   "cell_type": "code",
   "execution_count": null,
   "metadata": {},
   "outputs": [],
   "source": [
    "S[:, 0]"
   ]
  },
  {
   "cell_type": "code",
   "execution_count": null,
   "metadata": {},
   "outputs": [],
   "source": [
    "np.hstack((0, S[:, 0]))"
   ]
  },
  {
   "cell_type": "code",
   "execution_count": null,
   "metadata": {},
   "outputs": [],
   "source": [
    "u1 = S[:, 0]\n",
    "u1"
   ]
  },
  {
   "cell_type": "code",
   "execution_count": null,
   "metadata": {},
   "outputs": [],
   "source": [
    "u1[::-1]"
   ]
  },
  {
   "cell_type": "code",
   "execution_count": null,
   "metadata": {},
   "outputs": [],
   "source": [
    "S[:, 2]"
   ]
  },
  {
   "cell_type": "code",
   "execution_count": null,
   "metadata": {},
   "outputs": [],
   "source": [
    "fig, axes = plt.subplots(1, 4)\n",
    "\n",
    "for i in range(4):\n",
    "    axes[i].plot(np.hstack((0, S[:, i])), [0, 3, 6, 9, 12], marker='o')\n",
    "    axes[i].set_title('{:1.2f} Hz'.format(fs[i]))\n",
    "    \n",
    "plt.tight_layout()"
   ]
  },
  {
   "cell_type": "code",
   "execution_count": null,
   "metadata": {},
   "outputs": [],
   "source": [
    "fs[0]"
   ]
  },
  {
   "cell_type": "code",
   "execution_count": null,
   "metadata": {},
   "outputs": [],
   "source": [
    "S[:, 0]"
   ]
  },
  {
   "cell_type": "code",
   "execution_count": null,
   "metadata": {},
   "outputs": [],
   "source": [
    "sys.coordinates['x1'] = S[0, 2]\n",
    "sys.coordinates['x2'] = S[1, 2]\n",
    "sys.coordinates['x3'] = S[2, 2]\n",
    "sys.coordinates['x4'] = S[3, 2]"
   ]
  },
  {
   "cell_type": "code",
   "execution_count": null,
   "metadata": {},
   "outputs": [],
   "source": [
    "traj = sys.free_response(30, sample_rate=10)"
   ]
  },
  {
   "cell_type": "code",
   "execution_count": null,
   "metadata": {},
   "outputs": [],
   "source": [
    "traj[list(sys.coordinates.keys())].plot(subplots=True)"
   ]
  },
  {
   "cell_type": "code",
   "execution_count": null,
   "metadata": {},
   "outputs": [],
   "source": [
    "sys.animate_configuration(fps=10)"
   ]
  },
  {
   "cell_type": "markdown",
   "metadata": {},
   "source": [
    "# Simulating the trajectory\n",
    "\n",
    "The trajectory of building's coordinates can be found with:\n",
    "\n",
    "$$\n",
    "\\mathbf{x}(t) = \\sum_{i=1}^n c_i \\sin(\\omega_i t + \\phi_i) \\mathbf{u}_i\n",
    "$$\n",
    "\n",
    "where\n",
    "\n",
    "$$\n",
    "\\phi_i = \\arctan \\frac{\\omega_i \\mathbf{v}_i^T \\mathbf{q}_0}{\\mathbf{v}_i^T \\dot{\\mathbf{q}}_0}\n",
    "$$\n",
    "\n",
    "and\n",
    "\n",
    "$$\n",
    "c_i = \\frac{\\mathbf{v}^T_i \\mathbf{q}_0}{\\sin\\phi_i}\n",
    "$$\n",
    "\n",
    "$c_i$ are the modal participation factors and reflect what proportion of each mode is excited given specific initial conditions. If the initial conditions are the eigenmode, $\\mathbf{u}_i$, the all but the $i$th $c_i$ will be zero.\n",
    "\n",
    "# Exercise\n",
    "\n",
    "Show that if $\\mathbf{q}_0 = \\mathbf{v}_i$ then $c_i = 1$ all other modal participation factors are 0. Also, report all of the phase angles, $\\phi_i$, in degrees."
   ]
  },
  {
   "cell_type": "code",
   "execution_count": null,
   "metadata": {},
   "outputs": [],
   "source": [
    "for i in range(4):\n",
    "    x0 = S[:, i]\n",
    "    xd0 = np.zeros(4)\n",
    "    print(x0)\n",
    "\n",
    "    q0 = L.T @ x0\n",
    "    qd0 = L.T @ xd0\n",
    "\n",
    "    phis = np.arctan2(ws * P.T @ q0, P.T @ xd0)\n",
    "    print(np.rad2deg(phis))\n",
    "\n",
    "    cs = P.T @ q0 / np.sin(phis)\n",
    "    print(cs)\n",
    "    print('=' * 40)"
   ]
  },
  {
   "cell_type": "markdown",
   "metadata": {},
   "source": [
    "# Exercise\n",
    "\n",
    "Create a function called `simulate()` that returns the trajectories of the coordinates given an array of monotonically increasing time values and the initial conditions of the system.\n",
    "\n",
    "It should look like:\n",
    "\n",
    "```python\n",
    "def simulate(t, x0, xd0):\n",
    "    \"\"\"Returns the state trajectory.\n",
    "    \n",
    "    Parameters\n",
    "    ==========\n",
    "    t : ndarray, shape(m,)\n",
    "        Monotonic values of time.\n",
    "    x0 : ndarray, shape(n,)\n",
    "        The initial conditions of each coordinate.\n",
    "    xd0 : ndarray, shape(n,)\n",
    "        The initial conditions of each speed.\n",
    "    \n",
    "    Returns\n",
    "    =======\n",
    "    x : ndarray, shape(m, n)\n",
    "        The trajectories of each state.\n",
    "    \n",
    "    \"\"\"\n",
    "    \n",
    "    # your code here\n",
    "    \n",
    "    return x\n",
    "```"
   ]
  },
  {
   "cell_type": "code",
   "execution_count": null,
   "metadata": {},
   "outputs": [],
   "source": [
    "def simulate(t, x0, xd0):\n",
    "    \n",
    "    q0 = L.T @ x0\n",
    "    qd0 = L.T @ xd0\n",
    "    phis = np.arctan2(ws * P.T @ q0, P.T @ xd0)\n",
    "    cs = P.T @ q0 / np.sin(phis)\n",
    "    \n",
    "    x = np.zeros((len(x0), len(t)))\n",
    "    for ci, wi, phii, ui in zip(cs, ws, phis, S.T):\n",
    "        x += ci * np.sin(wi * t + phii) * np.tile(ui, (len(t), 1)).T\n",
    "    \n",
    "    return x"
   ]
  },
  {
   "cell_type": "markdown",
   "metadata": {},
   "source": [
    "# Exercise\n",
    "\n",
    "Using the plotting function below, show that the results found here are the same as the simulations from the `FourStoryBuildingSystem` given the same initial conditions."
   ]
  },
  {
   "cell_type": "code",
   "execution_count": null,
   "metadata": {},
   "outputs": [],
   "source": [
    "def plot_trajectories(t, x):\n",
    "    \n",
    "    fig, axes = plt.subplots(4, 1)\n",
    "    \n",
    "    for i, ax in enumerate(axes.flatten()):\n",
    "        ax.plot(t, x[i])\n",
    "        ax.set_ylabel(r'$x_{}$ [m]'.format(i + 1))\n",
    "    ax.set_xlabel('Time [s]')\n",
    "    \n",
    "    plt.tight_layout()"
   ]
  },
  {
   "cell_type": "code",
   "execution_count": null,
   "metadata": {},
   "outputs": [],
   "source": [
    "t = np.linspace(0, 50, num=50 * 60)\n",
    "x0 = np.array([0.001, 0.010, 0.020, 0.025])\n",
    "xd0 = np.zeros(4)\n",
    "x = simulate(t, x0, xd0)\n",
    "plot_trajectories(t, x)"
   ]
  },
  {
   "cell_type": "markdown",
   "metadata": {},
   "source": [
    "This shows the plot of a single mode:"
   ]
  },
  {
   "cell_type": "code",
   "execution_count": null,
   "metadata": {},
   "outputs": [],
   "source": [
    "x = simulate(t, S[:, 0], np.zeros(4))\n",
    "plot_trajectories(t, x)"
   ]
  }
 ],
 "metadata": {
  "anaconda-cloud": {},
  "kernelspec": {
   "display_name": "Python 3",
   "language": "python",
   "name": "python3"
  },
  "language_info": {
   "codemirror_mode": {
    "name": "ipython",
    "version": 3
   },
   "file_extension": ".py",
   "mimetype": "text/x-python",
   "name": "python",
   "nbconvert_exporter": "python",
   "pygments_lexer": "ipython3",
   "version": "3.6.3"
  }
 },
 "nbformat": 4,
 "nbformat_minor": 1
}
