{
 "cells": [
  {
   "cell_type": "markdown",
   "metadata": {},
   "source": [
    "# 14 Exploring the Motion of a Bicycle"
   ]
  },
  {
   "cell_type": "markdown",
   "metadata": {},
   "source": [
    "# Imports and setup"
   ]
  },
  {
   "cell_type": "code",
   "execution_count": null,
   "metadata": {},
   "outputs": [],
   "source": [
    "import numpy as np\n",
    "import matplotlib.pyplot as plt\n",
    "from IPython.display import YouTubeVideo"
   ]
  },
  {
   "cell_type": "code",
   "execution_count": null,
   "metadata": {},
   "outputs": [],
   "source": [
    "np.set_printoptions(precision=4, linewidth=100)"
   ]
  },
  {
   "cell_type": "code",
   "execution_count": null,
   "metadata": {},
   "outputs": [],
   "source": [
    "%matplotlib inline"
   ]
  },
  {
   "cell_type": "markdown",
   "metadata": {},
   "source": [
    "# Introduction\n",
    "\n",
    "The free response of a bicycle can exhibit vibrational phenomena. If you push a standard bicycle up to speed and then perturb it, it may vibrate. See the following video from the Ruina Lab at Cornell:"
   ]
  },
  {
   "cell_type": "code",
   "execution_count": null,
   "metadata": {},
   "outputs": [],
   "source": [
    "YouTubeVideo('pOkDbXEJb8E', width=800, height=600)"
   ]
  },
  {
   "cell_type": "markdown",
   "metadata": {},
   "source": [
    "One of the simplest models that can predict the fundamental free motion of a bicycle or motorcycle takes the following form:\n",
    "\n",
    "$$\n",
    "\\mathbf{M\\ddot{q}}\n",
    "+v\\mathbf{C}_1\\mathbf{\\dot{q}}\n",
    "+\\left[g\\mathbf{K}_0\n",
    "+v^2\\mathbf{K}_2\\right]\\mathbf{q}\n",
    "=\\mathbf{F}\n",
    "$$\n",
    "\n",
    "where\n",
    "\n",
    "$$\n",
    "\\mathbf{q} =\n",
    "[\\phi \\quad \\delta]^T\n",
    "$$\n",
    "\n",
    "$\\delta$, the steer angle, is a generalized coordinate that tracks the angle between the front frame (handlebar/fork) and the rear frame (frame, seat, etc) and $\\phi$, the roll angle, is a generalized coordinate that tracks the roll angle of the rear frame relative to the ground. If each of these are zero the bicycle is standing upright and the steering is pointed straight ahead. Positive steer angle is to the right and negative steer angle is to the left. Positive roll is to the right and negative to the left.\n",
    "\n",
    "This model can be constructed by creating an idealized bicycle with four rigid bodies: two wheels, rear frame (main frame and/or rigid person), and front frame (fork/handlebar). The derivation of this model is non-trivial, but you can read about it and more in the 2007 paper: http://rspa.royalsocietypublishing.org/content/463/2084/1955. The following two figures are taken from that paper and are copyrighted to the Royal Society:"
   ]
  },
  {
   "cell_type": "markdown",
   "metadata": {},
   "source": [
    "![bicycle model figure](bicycle-model.jpg)"
   ]
  },
  {
   "cell_type": "markdown",
   "metadata": {},
   "source": [
    "The canonical coefficient matrices are functions of the following 29 constants:"
   ]
  },
  {
   "cell_type": "markdown",
   "metadata": {},
   "source": [
    "![bicycle parameters figure](bicycle-parameters.jpg)"
   ]
  },
  {
   "cell_type": "markdown",
   "metadata": {},
   "source": [
    "The system has a mass matrix, $\\mathbf{M}$, and effective damping and stiffness matrices, $\\mathbf{C}=v\\mathbf{C}_1$ and $\\mathbf{K}=g\\mathbf{K}_0 + v^2\\mathbf{K}_2$, that are parameterized by the speed of the bicycle $v$ and the acceleration due to gravity $g$. These matrices are a function of the vehicle's geometry and mass distribution.\n",
    "\n",
    "To work with this model you can load in the `BicycleSystem`:"
   ]
  },
  {
   "cell_type": "code",
   "execution_count": null,
   "metadata": {},
   "outputs": [],
   "source": [
    "from resonance.linear_systems import BicycleSystem"
   ]
  },
  {
   "cell_type": "code",
   "execution_count": null,
   "metadata": {},
   "outputs": [],
   "source": [
    "sys = BicycleSystem()"
   ]
  },
  {
   "cell_type": "markdown",
   "metadata": {},
   "source": [
    "Typical values for the paramers in SI units are (from the above table):"
   ]
  },
  {
   "cell_type": "code",
   "execution_count": null,
   "metadata": {},
   "outputs": [],
   "source": [
    "sys.constants"
   ]
  },
  {
   "cell_type": "markdown",
   "metadata": {},
   "source": [
    "The canonical coefficient matrices are given by:"
   ]
  },
  {
   "cell_type": "code",
   "execution_count": null,
   "metadata": {},
   "outputs": [],
   "source": [
    "M, C, K = sys.canonical_coefficients()"
   ]
  },
  {
   "cell_type": "code",
   "execution_count": null,
   "metadata": {},
   "outputs": [],
   "source": [
    "M"
   ]
  },
  {
   "cell_type": "code",
   "execution_count": null,
   "metadata": {},
   "outputs": [],
   "source": [
    "C"
   ]
  },
  {
   "cell_type": "code",
   "execution_count": null,
   "metadata": {},
   "outputs": [],
   "source": [
    "K"
   ]
  },
  {
   "cell_type": "markdown",
   "metadata": {},
   "source": [
    "# Modal Solutions\n",
    "\n",
    "A damped system will have solutions, in the modal coordinates, that look like:\n",
    "\n",
    "$$\n",
    "r_i(t) =  A_i e^{-\\zeta_i \\omega_i t} \\sin(\\omega_{di} t + \\phi_i)\n",
    "$$\n",
    "\n",
    "or\n",
    "\n",
    "$$\n",
    "r_i(t) =  A_i e^{-\\zeta_i t}\n",
    "$$\n",
    "\n",
    "Just like the single degree of freedom systems we have studied. And just like the undamped multi degree of freedom systems, the parameters of this solution are found by calculating the eigenvalues and eigenvectors.\n",
    "\n",
    "In the actual coordinates the trajectories of the states will look like:\n",
    "\n",
    "\n",
    "$$\n",
    "\\mathbf{x}(t) =  \\sum c_i \\mathbf{u}_i e^{-\\zeta_i \\omega_i t} \\sin(\\omega_{di} t + \\phi_i) + \\sum c_j \\mathbf{u}_j e^{-\\zeta_j t}\n",
    "$$\n",
    "\n"
   ]
  },
  {
   "cell_type": "markdown",
   "metadata": {},
   "source": [
    "# Eigenvalues and Eigenvectors\n",
    "\n",
    "In the previous class we learned that the free response of the system can be formulated by solving an eigenvalue problem. This applies to systems with or without damping. All scientific computing software provides efficient numerical routines to compute the eigenvalues and eigenvectors of a square matrix. In Python you can use `numpy.linalg.eig`. For systems that have a general damping matric, this computation requires that the system be in **state space form**. State space form is the explicit first order form of the linear equations where $\\mathbf{A}$ is the state matrix and $\\mathbf{B}$ is the input matrix.\n",
    "\n",
    "$$\\dot{\\mathbf{x}} = \\mathbf{A} \\mathbf{x} + \\mathbf{B}\\mathbf{r}$$\n",
    "\n",
    "where $\\mathbf{x}$ is the state vector and $\\mathbf{r}$ is the input vector.\n",
    "\n",
    "The transformation from canonical form to state form can be done like so:\n",
    "\n",
    "$$\n",
    "\\mathbf{x} = \\left[\\mathbf{q} \\quad \\mathbf{u}\\right]^T = \\left[\\phi \\quad \\delta \\quad \\dot{\\phi} \\quad \\dot{\\delta}\\right]^T\\\\\n",
    "\\mathbf{r} = \\left[\\mathbf{0} \\quad \\mathbf{F}\\right]^T \\\\\n",
    "\\mathbf{A} = \\begin{bmatrix}\n",
    "\\mathbf{0} & \\mathbf{I} \\\\\n",
    "-\\mathbf{M}^{-1} \\mathbf{K} & -\\mathbf{M}^{-1} \\mathbf{C}\n",
    "\\end{bmatrix}\\\\\n",
    "\\mathbf{A} = \\begin{bmatrix}\n",
    "\\mathbf{0} \\\\\n",
    "\\mathbf{M}^{-1} \\mathbf{F}\n",
    "\\end{bmatrix}\n",
    "$$"
   ]
  },
  {
   "cell_type": "markdown",
   "metadata": {},
   "source": [
    "# Exercise\n",
    "\n",
    "Write a function that takes the matrices $\\mathbf{M,C,K}$ as an inputs and returns the A and B matrices."
   ]
  },
  {
   "cell_type": "code",
   "execution_count": null,
   "metadata": {},
   "outputs": [],
   "source": [
    "def compute_state_matrix(M, C, K):\n",
    "    \"\"\"Returns the state matrix.\n",
    "    \n",
    "    Parameters\n",
    "    ----------\n",
    "    M : array_like, shape(2,2)\n",
    "        The mass matrix.\n",
    "    C : array_like, shape(2,2)\n",
    "        The damping matrix.\n",
    "    K : array_like, shape(2,2)\n",
    "        The stiffness matrix.\n",
    "    \n",
    "    Returns\n",
    "    -------\n",
    "\n",
    "    A : ndarray, shape(4,4)\n",
    "        The state matrix.\n",
    "    B : ndarray, shape(4,1)\n",
    "\n",
    "    \"\"\"\n",
    "    \n",
    "    # write your code here\n",
    "    \n",
    "    invM = np.linalg.inv(M)\n",
    "    \n",
    "    # sub-matrices\n",
    "    a11 = np.zeros((2, 2))\n",
    "    a12 = np.eye(2)\n",
    "    a21 = -invM @ (K)\n",
    "    a22 = -invM @ (C)\n",
    "\n",
    "    # note that np.bmat returns a matrix but we don't want that! so make it an array\n",
    "    A = np.array(np.bmat([[a11, a12], [a21, a22]]))\n",
    "    \n",
    "    B = np.bmat([[np.zeros((2, 2))],\n",
    "                 [-invM]])\n",
    "\n",
    "    return A, B"
   ]
  },
  {
   "cell_type": "markdown",
   "metadata": {},
   "source": [
    "Now use the function to create a state matrix, $\\mathbf{A}$, for $v=5.4 \\textrm{m/s}$ and $g=9.81$. This speed is normal \"around town\" riding speed (12 mph)."
   ]
  },
  {
   "cell_type": "code",
   "execution_count": null,
   "metadata": {},
   "outputs": [],
   "source": [
    "A, B = compute_state_matrix(M, C, K)\n",
    "A, B"
   ]
  },
  {
   "cell_type": "markdown",
   "metadata": {},
   "source": [
    "Now compute the eigenvalues and eigenvectors of the the system using `numpy.linalg.eig`, see https://docs.scipy.org/doc/numpy/reference/generated/numpy.linalg.eig.html."
   ]
  },
  {
   "cell_type": "code",
   "execution_count": null,
   "metadata": {},
   "outputs": [],
   "source": [
    "eigenvalues, eigenvectors = np.linalg.eig(A)"
   ]
  },
  {
   "cell_type": "markdown",
   "metadata": {},
   "source": [
    "The eigenvalues are, in general, complex numbers. The complex eigenvalues come in complex conjugate pairs. Each pair corresponds to one osciallatory mode of motion. The real eigenvalues each correspond to one non-osciallatory mode of motion."
   ]
  },
  {
   "cell_type": "code",
   "execution_count": null,
   "metadata": {},
   "outputs": [],
   "source": [
    "eigenvalues"
   ]
  },
  {
   "cell_type": "code",
   "execution_count": null,
   "metadata": {},
   "outputs": [],
   "source": [
    "eigenvectors"
   ]
  },
  {
   "cell_type": "markdown",
   "metadata": {
    "collapsed": true
   },
   "source": [
    "# Plot eigenvectors on polar plot"
   ]
  },
  {
   "cell_type": "markdown",
   "metadata": {},
   "source": [
    "One way to visualize the modes of motion is by plotting phasor plots of each of the eigenvector components. Eigenvectors are made up of $n$ components, each which may be real or imaginary, that correspond to the states variables. In our case each each component is tied to the roll angle, steer angle, roll angular rate, and steer angular rate. It is also important to note that the phasor plot for osciallation (underdamped) of the derivative of one of the variables simply increases the magnitue by a factor $\\omega_i$ and phase shifts the variable by $90^\\circ$, i.e.:\n",
    "\n",
    "$$\n",
    "r_i(t) =  A_i e^{-\\zeta_i \\omega_i t} \\sin(\\omega_{di} t + \\phi_i) \\\\\n",
    "\\dot{r}_i(t) =  \\omega_{di} A_i e^{-\\zeta_i \\omega_i t} \\cos(\\omega_{di} t + \\phi_i)\n",
    "$$\n",
    "\n",
    "This means that we only need to look at the components associated with the angles to see how the vehicle is moving.\n",
    "\n",
    "A nice way to plot phasors that are using a polar plot. For example if I have an eigenvalue of $-1.2 + 6j$ that has an associated eigenvector of $[-0.011-0.123j, -0.032-0.149j, 0.581+ 0.067j, 0.789]$ then we can select the first two components and plot a line that is equivlanent to the magnitude of the component and at an angle based on the tangent of the imaginary over the real part."
   ]
  },
  {
   "cell_type": "code",
   "execution_count": null,
   "metadata": {},
   "outputs": [],
   "source": [
    "fig, ax = plt.subplots(1, 1, subplot_kw={'projection': 'polar'})\n",
    "\n",
    "# this gets the first component of the second eigenvector\n",
    "v = eigenvectors[0, 1]                                         \n",
    "\n",
    "radius = np.abs(v)\n",
    "theta = np.angle(v)\n",
    "\n",
    "ax.plot([0, theta], [0, radius]);                                      "
   ]
  },
  {
   "cell_type": "markdown",
   "metadata": {},
   "source": [
    "# Exercise\n",
    "\n",
    "Make polar phasor plots for each of the eigenvalues."
   ]
  },
  {
   "cell_type": "code",
   "execution_count": null,
   "metadata": {},
   "outputs": [],
   "source": [
    "fig, axes = plt.subplots(2, 2, subplot_kw={'projection': 'polar'})\n",
    "\n",
    "for i, ax in enumerate(axes.flatten()):\n",
    "    e_val = eigenvalues[i]\n",
    "    evec = eigenvectors[:, i]\n",
    "    radius = np.abs(evec[0])\n",
    "    theta = np.angle(evec[0])\n",
    "    ax.plot([0, theta], [0, radius], linewidth=2, alpha=0.75)\n",
    "    radius = np.abs(evec[1])\n",
    "    theta = np.angle(evec[1])\n",
    "    ax.plot([0, theta], [0, radius], linewidth=2, alpha=0.75)\n",
    "    ax.set_title('{:1.3f}'.format(e_val))\n",
    "ax.legend(['Roll Angle', 'Steer Angle'])\n",
    "plt.tight_layout()"
   ]
  },
  {
   "cell_type": "markdown",
   "metadata": {},
   "source": [
    "# Animate in the phasors"
   ]
  },
  {
   "cell_type": "code",
   "execution_count": null,
   "metadata": {},
   "outputs": [],
   "source": [
    "from resonance.functions import Phasor, PhasorAnimation"
   ]
  },
  {
   "cell_type": "code",
   "execution_count": null,
   "metadata": {},
   "outputs": [],
   "source": [
    "times = np.arange(0, 3, 0.03)\n",
    "\n",
    "i = 0\n",
    "\n",
    "phasors = [\n",
    "    Phasor.from_eig(eigenvectors[0, i], eigenvalues[i]),\n",
    "    Phasor.from_eig(eigenvectors[1, i], eigenvalues[i]),\n",
    "\n",
    "]\n",
    "\n",
    "fig = plt.figure()\n",
    "fig.set_size_inches(3, 6)\n",
    "ani = PhasorAnimation(fig, times, phasors, repeat=True,\n",
    "                      re_range=(-0.5, 0.5), im_range=(-0.5, 0.5))"
   ]
  },
  {
   "cell_type": "markdown",
   "metadata": {},
   "source": [
    "# Examine the Mode Shape Trajectories"
   ]
  },
  {
   "cell_type": "code",
   "execution_count": null,
   "metadata": {},
   "outputs": [],
   "source": [
    "phi0, delta0, phidot0, deltadot0 = np.real(eigenvectors[:, 0])"
   ]
  },
  {
   "cell_type": "code",
   "execution_count": null,
   "metadata": {},
   "outputs": [],
   "source": [
    "sys.coordinates['phi'] = phi0\n",
    "sys.coordinates['delta'] = delta0\n",
    "sys.speeds['phidot'] = phidot0\n",
    "sys.speeds['deltadot'] = deltadot0"
   ]
  },
  {
   "cell_type": "code",
   "execution_count": null,
   "metadata": {},
   "outputs": [],
   "source": [
    "traj = sys.free_response(5.0)"
   ]
  },
  {
   "cell_type": "code",
   "execution_count": null,
   "metadata": {},
   "outputs": [],
   "source": [
    "traj[['phi', 'delta']].plot(subplots=True);"
   ]
  },
  {
   "cell_type": "markdown",
   "metadata": {},
   "source": [
    "# Exercise\n",
    "\n",
    "Plot the real part of the eigenvalues as a function of speed and the imaginary part of the eigenvalues as a function of speed. Explain what you learn about the stability of each mode"
   ]
  },
  {
   "cell_type": "code",
   "execution_count": null,
   "metadata": {},
   "outputs": [],
   "source": [
    "speeds = np.linspace(0, 10, num=100)\n",
    "\n",
    "eigenvalues = np.zeros((len(speeds), 4), dtype=complex)\n",
    "eigenvectors = np.zeros((len(speeds), 4, 4), dtype=complex)\n",
    "\n",
    "for i, v in enumerate(speeds):\n",
    "    sys.constants['v'] = v\n",
    "    M, C, K = sys.canonical_coefficients()\n",
    "    A, B = compute_state_matrix(M, C, K)\n",
    "    eigenvalues[i], eigenvectors[i] = np.linalg.eig(A)"
   ]
  },
  {
   "cell_type": "code",
   "execution_count": null,
   "metadata": {},
   "outputs": [],
   "source": [
    "fig, axes = plt.subplots(2, 1)\n",
    "\n",
    "axes[0].plot(speeds, np.real(eigenvalues), 'k.')\n",
    "axes[0].axhline(0)\n",
    "axes[0].set_ylim([-10, 10])\n",
    "axes[1].plot(speeds, np.imag(eigenvalues), 'k.');\n",
    "\n",
    "axes[1].set_xlabel('Speed [m/s]')"
   ]
  },
  {
   "cell_type": "markdown",
   "metadata": {},
   "source": [
    "Below is a function that computes the canonical matrices for the bicycle given various geometric and inerital parameters.\n",
    "\n"
   ]
  },
  {
   "cell_type": "markdown",
   "metadata": {},
   "source": [
    "# Exercises\n",
    "\n",
    "1. Remove the gyro effect of the wheels from your model by setting $I_{zz}$ to zero for both wheels. Is your bicycle still stable in some speed range?\n",
    "\n",
    "2. Reverse the trail, $c$, (make negative). Is your bicycle still stable in some speed range?\n",
    "\n",
    "3. Keep the gyro effect and the positive trail but change the mass distribution of the front fork such that the bicycle is always unstable.\n",
    "\n",
    "4. Make a design with negative trail which still shows some stable speed range."
   ]
  }
 ],
 "metadata": {
  "anaconda-cloud": {},
  "kernelspec": {
   "display_name": "Python 3",
   "language": "python",
   "name": "python3"
  },
  "language_info": {
   "codemirror_mode": {
    "name": "ipython",
    "version": 3
   },
   "file_extension": ".py",
   "mimetype": "text/x-python",
   "name": "python",
   "nbconvert_exporter": "python",
   "pygments_lexer": "ipython3",
   "version": "3.6.3"
  }
 },
 "nbformat": 4,
 "nbformat_minor": 1
}
