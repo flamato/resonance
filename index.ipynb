{
 "cells": [
  {
   "cell_type": "markdown",
   "metadata": {},
   "source": [
    "# Resonance: Learning Mechanical Vibration Engineering Through Computation\n",
    "\n",
    "## Table of Contents\n",
    "\n",
    "### ENG 122 Winter 2020 Notebooks\n",
    "\n",
    "1. [Introducing Mechanical Vibrations By Investigating a Book Oscillating on a Cylindrical Cup](01-2020/first_day.html) [[Download](01-2020.zip)]\n",
    "2. [Measuring a Bicycle Wheel's Inertia](02-2020/estimating_bicycle_radial_inertia.html) [[Download](02-2020.zip)]\n",
    "3. [Curve Fitting](03-2020/curve_fitting.html) [[Download](03-2020.zip)]\n",
    "\n",
    "### ENG 122 Fall 2017 Notebooks\n",
    "\n",
    "1.  [Introduction to Jupyter](01/01_intro_jupyter.html) [[Download](01.zip)]\n",
    "2.  [Introducing Mechanical Vibrations By Investigating a Book Oscillating on a Cylindrical Cup](02/02_book_balancing_intro.html) [[Download](02.zip)]\n",
    "3.  [Measuring a Bicycle Wheel's Inertia](03/03_bicycle_wheel_inertia.html) [[Download](03.zip)]\n",
    "4.  [Clock Pendulum with Air Drag Damping](04/04_clock_pendulum_with_damping.html) [[Download](04.zip)]\n",
    "5.  [Clock Pendulum with Joint Friction](05/05_clock_pendulum_with_friction.html) [[Download](05.zip)]\n",
    "6.  [Sinusoidal Forcing](06/06_sinusoidal_forcing.html) [[Download](06.zip)]\n",
    "7.  [Vertical Vibration of a Quarter Car](07/07_vertical_vibration_of_a_quarter_car.html) [[Download](07.zip)]\n",
    "8.  [Modeling a Drone Swinging From a Trifilar Pendulum](08/08_modeling_a_drone_trifilar_pendulum.html) [[Download](08.zip)]\n",
    "9.  [Modeling a Washing Machine](09/09_modeling_a_washing_machine.html) [[Download](09.zip)]\n",
    "10. [Modeling a Ball Channel Pendulum](10/10_modeling_a_ball_channel_pendulum.html) [[Download](10.zip)]\n",
    "11. [Modes of a Ball Channel Pendulum](11/11_modes_of_a_ball_channel_pendulum.html) [[Download](11.zip)]\n",
    "12. [Modes of a Vibrating Building](12/12_vibrating_building.html) [[Download](12.zip)]\n",
    "13. [Vibrating Building Under Forcing](13/13_vibrating_building_forcing.html) [[Download](13.zip)]\n",
    "14. [Bicycle](14/14_bicycle.html) [[Download](14.zip)]"
   ]
  }
 ],
 "metadata": {
  "anaconda-cloud": {},
  "kernelspec": {
   "display_name": "Python 3",
   "language": "python",
   "name": "python3"
  },
  "language_info": {
   "codemirror_mode": {
    "name": "ipython",
    "version": 3
   },
   "file_extension": ".py",
   "mimetype": "text/x-python",
   "name": "python",
   "nbconvert_exporter": "python",
   "pygments_lexer": "ipython3",
   "version": "3.6.7"
  }
 },
 "nbformat": 4,
 "nbformat_minor": 4
}
